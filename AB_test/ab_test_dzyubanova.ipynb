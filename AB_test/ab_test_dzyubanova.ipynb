{
 "cells": [
  {
   "cell_type": "markdown",
   "id": "d509114c",
   "metadata": {},
   "source": [
    "# Интернет магазин. Проверка А/Б тестов.\n",
    "Отдел маркетинга подготовил список гипотез для увеличения выручки.\n",
    "\n",
    "Задача: \n",
    "- приоритизировать гипотезы\n",
    "- запустить A/B-тест и проанализировать результаты. "
   ]
  },
  {
   "cell_type": "markdown",
   "id": "89c4916b",
   "metadata": {},
   "source": [
    "Данные для анализа: \n",
    "\n",
    "Файл `hypothesis.csv`\n",
    "\n",
    "|столбец|описание:|\n",
    "|--:|:--|\n",
    "|Hypothesis |краткое описание гипотезы|\n",
    "|Reach|охват пользователей по 10-балльной шкале|\n",
    "|Impact|влияние на пользователей по 10-балльной шкале|\n",
    "|Confidence|уверенность в гипотезе по 10-балльной шкале|\n",
    "|Efforts|затраты ресурсов на проверку гипотезы по 10-балльной шкале. Чем больше значение Efforts, тем дороже проверка гипотезы|\n",
    "\n",
    "\n",
    "Файл `datasets/orders.csv`\n",
    "\n",
    "|столбец|описание:|\n",
    "|--:|:--|\n",
    "|transactionId |идентификатор заказа|\n",
    "|visitorId|идентификатор пользователя, совершившего заказ|\n",
    "|date|дата, когда был совершён заказ|\n",
    "|revenue|выручка заказа|\n",
    "|group|группа A/B-теста| в которую попал заказ|\n",
    "\n",
    "\n",
    "Файл `visitors.csv`\n",
    "\n",
    "|столбец|описание:|\n",
    "|--:|:--|\n",
    "|date|дата|\n",
    "|group|группа A/B-теста|\n",
    "|visitors|количество пользователей в указанную дату в указанной группе A/B-теста|\n",
    "\n"
   ]
  },
  {
   "cell_type": "markdown",
   "id": "c94429f8",
   "metadata": {},
   "source": [
    "## 1. Загрузка данных, предобработка"
   ]
  },
  {
   "cell_type": "code",
   "execution_count": 1,
   "id": "f10c06f0",
   "metadata": {},
   "outputs": [],
   "source": [
    "import pandas as pd \n",
    "import numpy as np\n",
    "import matplotlib.pyplot as plt\n",
    "import math\n",
    "import scipy.stats as stats\n",
    "import datetime as dt\n"
   ]
  },
  {
   "cell_type": "code",
   "execution_count": 2,
   "id": "f2d973f4",
   "metadata": {},
   "outputs": [],
   "source": [
    "try:\n",
    "    df = pd.read_csv('hypothesis.csv')\n",
    "except: \n",
    "    df = pd.read_csv('/datasets/hypothesis.csv')\n",
    "    \n",
    "try:\n",
    "    orders = pd.read_csv('orders.csv')\n",
    "except: \n",
    "    orders = pd.read_csv('/datasets/orders.csv')    \n",
    "    \n",
    "try:\n",
    "    visitors = pd.read_csv('visitors.csv')\n",
    "except: \n",
    "    visitors = pd.read_csv('/datasets/visitors.csv')"
   ]
  },
  {
   "cell_type": "markdown",
   "id": "b5bb7229",
   "metadata": {},
   "source": [
    "### 1.1 Размерность, просмотр начальных и конечных записей наборов, информация по типам"
   ]
  },
  {
   "cell_type": "code",
   "execution_count": 3,
   "id": "3e8c4564",
   "metadata": {
    "scrolled": false
   },
   "outputs": [
    {
     "name": "stdout",
     "output_type": "stream",
     "text": [
      "\u001b[1mПервые 5 строк таблицы hypothesis\u001b[0m\n"
     ]
    },
    {
     "data": {
      "text/html": [
       "<div>\n",
       "<style scoped>\n",
       "    .dataframe tbody tr th:only-of-type {\n",
       "        vertical-align: middle;\n",
       "    }\n",
       "\n",
       "    .dataframe tbody tr th {\n",
       "        vertical-align: top;\n",
       "    }\n",
       "\n",
       "    .dataframe thead th {\n",
       "        text-align: right;\n",
       "    }\n",
       "</style>\n",
       "<table border=\"1\" class=\"dataframe\">\n",
       "  <thead>\n",
       "    <tr style=\"text-align: right;\">\n",
       "      <th></th>\n",
       "      <th>Hypothesis</th>\n",
       "      <th>Reach</th>\n",
       "      <th>Impact</th>\n",
       "      <th>Confidence</th>\n",
       "      <th>Efforts</th>\n",
       "    </tr>\n",
       "  </thead>\n",
       "  <tbody>\n",
       "    <tr>\n",
       "      <th>0</th>\n",
       "      <td>Добавить два новых канала привлечения трафика,...</td>\n",
       "      <td>3</td>\n",
       "      <td>10</td>\n",
       "      <td>8</td>\n",
       "      <td>6</td>\n",
       "    </tr>\n",
       "    <tr>\n",
       "      <th>1</th>\n",
       "      <td>Запустить собственную службу доставки, что сок...</td>\n",
       "      <td>2</td>\n",
       "      <td>5</td>\n",
       "      <td>4</td>\n",
       "      <td>10</td>\n",
       "    </tr>\n",
       "    <tr>\n",
       "      <th>2</th>\n",
       "      <td>Добавить блоки рекомендаций товаров на сайт ин...</td>\n",
       "      <td>8</td>\n",
       "      <td>3</td>\n",
       "      <td>7</td>\n",
       "      <td>3</td>\n",
       "    </tr>\n",
       "    <tr>\n",
       "      <th>3</th>\n",
       "      <td>Изменить структура категорий, что увеличит кон...</td>\n",
       "      <td>8</td>\n",
       "      <td>3</td>\n",
       "      <td>3</td>\n",
       "      <td>8</td>\n",
       "    </tr>\n",
       "    <tr>\n",
       "      <th>4</th>\n",
       "      <td>Изменить цвет фона главной страницы, чтобы уве...</td>\n",
       "      <td>3</td>\n",
       "      <td>1</td>\n",
       "      <td>1</td>\n",
       "      <td>1</td>\n",
       "    </tr>\n",
       "  </tbody>\n",
       "</table>\n",
       "</div>"
      ],
      "text/plain": [
       "                                          Hypothesis  Reach  Impact  \\\n",
       "0  Добавить два новых канала привлечения трафика,...      3      10   \n",
       "1  Запустить собственную службу доставки, что сок...      2       5   \n",
       "2  Добавить блоки рекомендаций товаров на сайт ин...      8       3   \n",
       "3  Изменить структура категорий, что увеличит кон...      8       3   \n",
       "4  Изменить цвет фона главной страницы, чтобы уве...      3       1   \n",
       "\n",
       "   Confidence  Efforts  \n",
       "0           8        6  \n",
       "1           4       10  \n",
       "2           7        3  \n",
       "3           3        8  \n",
       "4           1        1  "
      ]
     },
     "metadata": {},
     "output_type": "display_data"
    },
    {
     "name": "stdout",
     "output_type": "stream",
     "text": [
      "\u001b[1mПоследние 5 строк таблицы hypothesis\u001b[0m\n"
     ]
    },
    {
     "data": {
      "text/html": [
       "<div>\n",
       "<style scoped>\n",
       "    .dataframe tbody tr th:only-of-type {\n",
       "        vertical-align: middle;\n",
       "    }\n",
       "\n",
       "    .dataframe tbody tr th {\n",
       "        vertical-align: top;\n",
       "    }\n",
       "\n",
       "    .dataframe thead th {\n",
       "        text-align: right;\n",
       "    }\n",
       "</style>\n",
       "<table border=\"1\" class=\"dataframe\">\n",
       "  <thead>\n",
       "    <tr style=\"text-align: right;\">\n",
       "      <th></th>\n",
       "      <th>Hypothesis</th>\n",
       "      <th>Reach</th>\n",
       "      <th>Impact</th>\n",
       "      <th>Confidence</th>\n",
       "      <th>Efforts</th>\n",
       "    </tr>\n",
       "  </thead>\n",
       "  <tbody>\n",
       "    <tr>\n",
       "      <th>4</th>\n",
       "      <td>Изменить цвет фона главной страницы, чтобы уве...</td>\n",
       "      <td>3</td>\n",
       "      <td>1</td>\n",
       "      <td>1</td>\n",
       "      <td>1</td>\n",
       "    </tr>\n",
       "    <tr>\n",
       "      <th>5</th>\n",
       "      <td>Добавить страницу отзывов клиентов о магазине,...</td>\n",
       "      <td>3</td>\n",
       "      <td>2</td>\n",
       "      <td>2</td>\n",
       "      <td>3</td>\n",
       "    </tr>\n",
       "    <tr>\n",
       "      <th>6</th>\n",
       "      <td>Показать на главной странице баннеры с актуаль...</td>\n",
       "      <td>5</td>\n",
       "      <td>3</td>\n",
       "      <td>8</td>\n",
       "      <td>3</td>\n",
       "    </tr>\n",
       "    <tr>\n",
       "      <th>7</th>\n",
       "      <td>Добавить форму подписки на все основные страни...</td>\n",
       "      <td>10</td>\n",
       "      <td>7</td>\n",
       "      <td>8</td>\n",
       "      <td>5</td>\n",
       "    </tr>\n",
       "    <tr>\n",
       "      <th>8</th>\n",
       "      <td>Запустить акцию, дающую скидку на товар в день...</td>\n",
       "      <td>1</td>\n",
       "      <td>9</td>\n",
       "      <td>9</td>\n",
       "      <td>5</td>\n",
       "    </tr>\n",
       "  </tbody>\n",
       "</table>\n",
       "</div>"
      ],
      "text/plain": [
       "                                          Hypothesis  Reach  Impact  \\\n",
       "4  Изменить цвет фона главной страницы, чтобы уве...      3       1   \n",
       "5  Добавить страницу отзывов клиентов о магазине,...      3       2   \n",
       "6  Показать на главной странице баннеры с актуаль...      5       3   \n",
       "7  Добавить форму подписки на все основные страни...     10       7   \n",
       "8  Запустить акцию, дающую скидку на товар в день...      1       9   \n",
       "\n",
       "   Confidence  Efforts  \n",
       "4           1        1  \n",
       "5           2        3  \n",
       "6           8        3  \n",
       "7           8        5  \n",
       "8           9        5  "
      ]
     },
     "metadata": {},
     "output_type": "display_data"
    },
    {
     "name": "stdout",
     "output_type": "stream",
     "text": [
      "\u001b[1mИнформация по столбцам таблицы hypothesis\u001b[0m\n",
      "<class 'pandas.core.frame.DataFrame'>\n",
      "RangeIndex: 9 entries, 0 to 8\n",
      "Data columns (total 5 columns):\n",
      " #   Column      Non-Null Count  Dtype \n",
      "---  ------      --------------  ----- \n",
      " 0   Hypothesis  9 non-null      object\n",
      " 1   Reach       9 non-null      int64 \n",
      " 2   Impact      9 non-null      int64 \n",
      " 3   Confidence  9 non-null      int64 \n",
      " 4   Efforts     9 non-null      int64 \n",
      "dtypes: int64(4), object(1)\n",
      "memory usage: 388.0+ bytes\n"
     ]
    },
    {
     "data": {
      "text/plain": [
       "None"
      ]
     },
     "metadata": {},
     "output_type": "display_data"
    },
    {
     "name": "stdout",
     "output_type": "stream",
     "text": [
      "\u001b[1mПервые 5 строк таблицы orders\u001b[0m\n"
     ]
    },
    {
     "data": {
      "text/html": [
       "<div>\n",
       "<style scoped>\n",
       "    .dataframe tbody tr th:only-of-type {\n",
       "        vertical-align: middle;\n",
       "    }\n",
       "\n",
       "    .dataframe tbody tr th {\n",
       "        vertical-align: top;\n",
       "    }\n",
       "\n",
       "    .dataframe thead th {\n",
       "        text-align: right;\n",
       "    }\n",
       "</style>\n",
       "<table border=\"1\" class=\"dataframe\">\n",
       "  <thead>\n",
       "    <tr style=\"text-align: right;\">\n",
       "      <th></th>\n",
       "      <th>transactionId</th>\n",
       "      <th>visitorId</th>\n",
       "      <th>date</th>\n",
       "      <th>revenue</th>\n",
       "      <th>group</th>\n",
       "    </tr>\n",
       "  </thead>\n",
       "  <tbody>\n",
       "    <tr>\n",
       "      <th>0</th>\n",
       "      <td>3667963787</td>\n",
       "      <td>3312258926</td>\n",
       "      <td>2019-08-15</td>\n",
       "      <td>1650</td>\n",
       "      <td>B</td>\n",
       "    </tr>\n",
       "    <tr>\n",
       "      <th>1</th>\n",
       "      <td>2804400009</td>\n",
       "      <td>3642806036</td>\n",
       "      <td>2019-08-15</td>\n",
       "      <td>730</td>\n",
       "      <td>B</td>\n",
       "    </tr>\n",
       "    <tr>\n",
       "      <th>2</th>\n",
       "      <td>2961555356</td>\n",
       "      <td>4069496402</td>\n",
       "      <td>2019-08-15</td>\n",
       "      <td>400</td>\n",
       "      <td>A</td>\n",
       "    </tr>\n",
       "    <tr>\n",
       "      <th>3</th>\n",
       "      <td>3797467345</td>\n",
       "      <td>1196621759</td>\n",
       "      <td>2019-08-15</td>\n",
       "      <td>9759</td>\n",
       "      <td>B</td>\n",
       "    </tr>\n",
       "    <tr>\n",
       "      <th>4</th>\n",
       "      <td>2282983706</td>\n",
       "      <td>2322279887</td>\n",
       "      <td>2019-08-15</td>\n",
       "      <td>2308</td>\n",
       "      <td>B</td>\n",
       "    </tr>\n",
       "  </tbody>\n",
       "</table>\n",
       "</div>"
      ],
      "text/plain": [
       "   transactionId   visitorId        date  revenue group\n",
       "0     3667963787  3312258926  2019-08-15     1650     B\n",
       "1     2804400009  3642806036  2019-08-15      730     B\n",
       "2     2961555356  4069496402  2019-08-15      400     A\n",
       "3     3797467345  1196621759  2019-08-15     9759     B\n",
       "4     2282983706  2322279887  2019-08-15     2308     B"
      ]
     },
     "metadata": {},
     "output_type": "display_data"
    },
    {
     "name": "stdout",
     "output_type": "stream",
     "text": [
      "\u001b[1mПоследние 5 строк таблицы orders\u001b[0m\n"
     ]
    },
    {
     "data": {
      "text/html": [
       "<div>\n",
       "<style scoped>\n",
       "    .dataframe tbody tr th:only-of-type {\n",
       "        vertical-align: middle;\n",
       "    }\n",
       "\n",
       "    .dataframe tbody tr th {\n",
       "        vertical-align: top;\n",
       "    }\n",
       "\n",
       "    .dataframe thead th {\n",
       "        text-align: right;\n",
       "    }\n",
       "</style>\n",
       "<table border=\"1\" class=\"dataframe\">\n",
       "  <thead>\n",
       "    <tr style=\"text-align: right;\">\n",
       "      <th></th>\n",
       "      <th>transactionId</th>\n",
       "      <th>visitorId</th>\n",
       "      <th>date</th>\n",
       "      <th>revenue</th>\n",
       "      <th>group</th>\n",
       "    </tr>\n",
       "  </thead>\n",
       "  <tbody>\n",
       "    <tr>\n",
       "      <th>1192</th>\n",
       "      <td>2662137336</td>\n",
       "      <td>3733762160</td>\n",
       "      <td>2019-08-14</td>\n",
       "      <td>6490</td>\n",
       "      <td>B</td>\n",
       "    </tr>\n",
       "    <tr>\n",
       "      <th>1193</th>\n",
       "      <td>2203539145</td>\n",
       "      <td>370388673</td>\n",
       "      <td>2019-08-14</td>\n",
       "      <td>3190</td>\n",
       "      <td>A</td>\n",
       "    </tr>\n",
       "    <tr>\n",
       "      <th>1194</th>\n",
       "      <td>1807773912</td>\n",
       "      <td>573423106</td>\n",
       "      <td>2019-08-14</td>\n",
       "      <td>10550</td>\n",
       "      <td>A</td>\n",
       "    </tr>\n",
       "    <tr>\n",
       "      <th>1195</th>\n",
       "      <td>1947021204</td>\n",
       "      <td>1614305549</td>\n",
       "      <td>2019-08-14</td>\n",
       "      <td>100</td>\n",
       "      <td>A</td>\n",
       "    </tr>\n",
       "    <tr>\n",
       "      <th>1196</th>\n",
       "      <td>3936777065</td>\n",
       "      <td>2108080724</td>\n",
       "      <td>2019-08-15</td>\n",
       "      <td>202740</td>\n",
       "      <td>B</td>\n",
       "    </tr>\n",
       "  </tbody>\n",
       "</table>\n",
       "</div>"
      ],
      "text/plain": [
       "      transactionId   visitorId        date  revenue group\n",
       "1192     2662137336  3733762160  2019-08-14     6490     B\n",
       "1193     2203539145   370388673  2019-08-14     3190     A\n",
       "1194     1807773912   573423106  2019-08-14    10550     A\n",
       "1195     1947021204  1614305549  2019-08-14      100     A\n",
       "1196     3936777065  2108080724  2019-08-15   202740     B"
      ]
     },
     "metadata": {},
     "output_type": "display_data"
    },
    {
     "name": "stdout",
     "output_type": "stream",
     "text": [
      "\u001b[1mИнформация по столбцам таблицы orders\u001b[0m\n",
      "<class 'pandas.core.frame.DataFrame'>\n",
      "RangeIndex: 1197 entries, 0 to 1196\n",
      "Data columns (total 5 columns):\n",
      " #   Column         Non-Null Count  Dtype \n",
      "---  ------         --------------  ----- \n",
      " 0   transactionId  1197 non-null   int64 \n",
      " 1   visitorId      1197 non-null   int64 \n",
      " 2   date           1197 non-null   object\n",
      " 3   revenue        1197 non-null   int64 \n",
      " 4   group          1197 non-null   object\n",
      "dtypes: int64(3), object(2)\n",
      "memory usage: 37.5+ KB\n"
     ]
    },
    {
     "data": {
      "text/plain": [
       "None"
      ]
     },
     "metadata": {},
     "output_type": "display_data"
    },
    {
     "name": "stdout",
     "output_type": "stream",
     "text": [
      "\u001b[1mПервые 5 строк таблицы visitors\u001b[0m\n"
     ]
    },
    {
     "data": {
      "text/html": [
       "<div>\n",
       "<style scoped>\n",
       "    .dataframe tbody tr th:only-of-type {\n",
       "        vertical-align: middle;\n",
       "    }\n",
       "\n",
       "    .dataframe tbody tr th {\n",
       "        vertical-align: top;\n",
       "    }\n",
       "\n",
       "    .dataframe thead th {\n",
       "        text-align: right;\n",
       "    }\n",
       "</style>\n",
       "<table border=\"1\" class=\"dataframe\">\n",
       "  <thead>\n",
       "    <tr style=\"text-align: right;\">\n",
       "      <th></th>\n",
       "      <th>date</th>\n",
       "      <th>group</th>\n",
       "      <th>visitors</th>\n",
       "    </tr>\n",
       "  </thead>\n",
       "  <tbody>\n",
       "    <tr>\n",
       "      <th>0</th>\n",
       "      <td>2019-08-01</td>\n",
       "      <td>A</td>\n",
       "      <td>719</td>\n",
       "    </tr>\n",
       "    <tr>\n",
       "      <th>1</th>\n",
       "      <td>2019-08-02</td>\n",
       "      <td>A</td>\n",
       "      <td>619</td>\n",
       "    </tr>\n",
       "    <tr>\n",
       "      <th>2</th>\n",
       "      <td>2019-08-03</td>\n",
       "      <td>A</td>\n",
       "      <td>507</td>\n",
       "    </tr>\n",
       "    <tr>\n",
       "      <th>3</th>\n",
       "      <td>2019-08-04</td>\n",
       "      <td>A</td>\n",
       "      <td>717</td>\n",
       "    </tr>\n",
       "    <tr>\n",
       "      <th>4</th>\n",
       "      <td>2019-08-05</td>\n",
       "      <td>A</td>\n",
       "      <td>756</td>\n",
       "    </tr>\n",
       "  </tbody>\n",
       "</table>\n",
       "</div>"
      ],
      "text/plain": [
       "         date group  visitors\n",
       "0  2019-08-01     A       719\n",
       "1  2019-08-02     A       619\n",
       "2  2019-08-03     A       507\n",
       "3  2019-08-04     A       717\n",
       "4  2019-08-05     A       756"
      ]
     },
     "metadata": {},
     "output_type": "display_data"
    },
    {
     "name": "stdout",
     "output_type": "stream",
     "text": [
      "\u001b[1mПоследние 5 строк таблицы visitors\u001b[0m\n"
     ]
    },
    {
     "data": {
      "text/html": [
       "<div>\n",
       "<style scoped>\n",
       "    .dataframe tbody tr th:only-of-type {\n",
       "        vertical-align: middle;\n",
       "    }\n",
       "\n",
       "    .dataframe tbody tr th {\n",
       "        vertical-align: top;\n",
       "    }\n",
       "\n",
       "    .dataframe thead th {\n",
       "        text-align: right;\n",
       "    }\n",
       "</style>\n",
       "<table border=\"1\" class=\"dataframe\">\n",
       "  <thead>\n",
       "    <tr style=\"text-align: right;\">\n",
       "      <th></th>\n",
       "      <th>date</th>\n",
       "      <th>group</th>\n",
       "      <th>visitors</th>\n",
       "    </tr>\n",
       "  </thead>\n",
       "  <tbody>\n",
       "    <tr>\n",
       "      <th>57</th>\n",
       "      <td>2019-08-27</td>\n",
       "      <td>B</td>\n",
       "      <td>720</td>\n",
       "    </tr>\n",
       "    <tr>\n",
       "      <th>58</th>\n",
       "      <td>2019-08-28</td>\n",
       "      <td>B</td>\n",
       "      <td>654</td>\n",
       "    </tr>\n",
       "    <tr>\n",
       "      <th>59</th>\n",
       "      <td>2019-08-29</td>\n",
       "      <td>B</td>\n",
       "      <td>531</td>\n",
       "    </tr>\n",
       "    <tr>\n",
       "      <th>60</th>\n",
       "      <td>2019-08-30</td>\n",
       "      <td>B</td>\n",
       "      <td>490</td>\n",
       "    </tr>\n",
       "    <tr>\n",
       "      <th>61</th>\n",
       "      <td>2019-08-31</td>\n",
       "      <td>B</td>\n",
       "      <td>718</td>\n",
       "    </tr>\n",
       "  </tbody>\n",
       "</table>\n",
       "</div>"
      ],
      "text/plain": [
       "          date group  visitors\n",
       "57  2019-08-27     B       720\n",
       "58  2019-08-28     B       654\n",
       "59  2019-08-29     B       531\n",
       "60  2019-08-30     B       490\n",
       "61  2019-08-31     B       718"
      ]
     },
     "metadata": {},
     "output_type": "display_data"
    },
    {
     "name": "stdout",
     "output_type": "stream",
     "text": [
      "\u001b[1mИнформация по столбцам таблицы visitors\u001b[0m\n",
      "<class 'pandas.core.frame.DataFrame'>\n",
      "RangeIndex: 62 entries, 0 to 61\n",
      "Data columns (total 3 columns):\n",
      " #   Column    Non-Null Count  Dtype \n",
      "---  ------    --------------  ----- \n",
      " 0   date      62 non-null     object\n",
      " 1   group     62 non-null     object\n",
      " 2   visitors  62 non-null     int64 \n",
      "dtypes: int64(1), object(2)\n",
      "memory usage: 1.0+ KB\n"
     ]
    },
    {
     "data": {
      "text/plain": [
       "None"
      ]
     },
     "metadata": {},
     "output_type": "display_data"
    }
   ],
   "source": [
    "tabs={'hypothesis': df,'orders':orders, 'visitors': visitors}\n",
    "for key in tabs:\n",
    "    print('\\033[1m' + f'Первые 5 строк таблицы {key}'+'\\033[0m')\n",
    "    display(tabs[key].head(5))\n",
    "    print('\\033[1m' + f'Последние 5 строк таблицы {key}'+'\\033[0m')\n",
    "    display(tabs[key].tail(5))\n",
    "    print('\\033[1m' + f'Информация по столбцам таблицы {key}'+'\\033[0m')\n",
    "    display(tabs[key].info())"
   ]
  },
  {
   "cell_type": "markdown",
   "id": "572233bc",
   "metadata": {},
   "source": [
    "### Вывод по шагу 1.1: \n",
    "- пропусков в данных нет\n",
    "- в таблице с гипотезами `hypothesis` столбцы следует переименовать, перевести в нижний регистр\n",
    "- даты в 2х таблицах следует перевести в формат даты\n"
   ]
  },
  {
   "cell_type": "code",
   "execution_count": 4,
   "id": "e6b3ef7e",
   "metadata": {},
   "outputs": [],
   "source": [
    "df.columns=df.columns.str.lower() #замена регистра  "
   ]
  },
  {
   "cell_type": "code",
   "execution_count": 5,
   "id": "49669f41",
   "metadata": {},
   "outputs": [],
   "source": [
    "orders = orders.rename({'transactionId': 'order_id', 'visitorId': 'user_id'}, axis=1) "
   ]
  },
  {
   "cell_type": "code",
   "execution_count": 6,
   "id": "c7a088c3",
   "metadata": {},
   "outputs": [],
   "source": [
    "orders['date'] = orders['date'].map(lambda x: dt.datetime.strptime(x, '%Y-%m-%d')) #перевод даты в нужный формат"
   ]
  },
  {
   "cell_type": "code",
   "execution_count": 7,
   "id": "b748f495",
   "metadata": {},
   "outputs": [],
   "source": [
    "visitors['date'] = visitors['date'].map(lambda x: dt.datetime.strptime(x, '%Y-%m-%d')) #перевод даты в нужный формат"
   ]
  },
  {
   "cell_type": "markdown",
   "id": "cfdb1006",
   "metadata": {},
   "source": [
    "### 1.2 Проверка данных на дубликаты."
   ]
  },
  {
   "cell_type": "code",
   "execution_count": 8,
   "id": "57b1c385",
   "metadata": {},
   "outputs": [
    {
     "data": {
      "text/plain": [
       "0"
      ]
     },
     "execution_count": 8,
     "metadata": {},
     "output_type": "execute_result"
    }
   ],
   "source": [
    "df.duplicated().sum()"
   ]
  },
  {
   "cell_type": "code",
   "execution_count": 9,
   "id": "5db68412",
   "metadata": {},
   "outputs": [
    {
     "data": {
      "text/plain": [
       "0"
      ]
     },
     "execution_count": 9,
     "metadata": {},
     "output_type": "execute_result"
    }
   ],
   "source": [
    "orders.duplicated().sum()"
   ]
  },
  {
   "cell_type": "code",
   "execution_count": 10,
   "id": "34f5ba68",
   "metadata": {},
   "outputs": [
    {
     "data": {
      "text/plain": [
       "0"
      ]
     },
     "execution_count": 10,
     "metadata": {},
     "output_type": "execute_result"
    }
   ],
   "source": [
    "visitors.duplicated().sum()"
   ]
  },
  {
   "cell_type": "markdown",
   "id": "c23a0dbf",
   "metadata": {},
   "source": [
    "### 1.3 Дополнительные исследования данных по А/Б тестам"
   ]
  },
  {
   "cell_type": "markdown",
   "id": "cc97f160",
   "metadata": {},
   "source": [
    "#### 1.3.1 Проверка количества групп"
   ]
  },
  {
   "cell_type": "code",
   "execution_count": 11,
   "id": "6cd6af2b",
   "metadata": {},
   "outputs": [
    {
     "data": {
      "text/plain": [
       "array(['B', 'A'], dtype=object)"
      ]
     },
     "execution_count": 11,
     "metadata": {},
     "output_type": "execute_result"
    }
   ],
   "source": [
    "orders['group'].unique()"
   ]
  },
  {
   "cell_type": "code",
   "execution_count": 12,
   "id": "be3c520a",
   "metadata": {},
   "outputs": [
    {
     "data": {
      "text/plain": [
       "array(['A', 'B'], dtype=object)"
      ]
     },
     "execution_count": 12,
     "metadata": {},
     "output_type": "execute_result"
    }
   ],
   "source": [
    "visitors['group'].unique()"
   ]
  },
  {
   "cell_type": "markdown",
   "id": "b78b9585",
   "metadata": {},
   "source": [
    "**В данных представлены 2 группы, обозначенные А и В**"
   ]
  },
  {
   "cell_type": "markdown",
   "id": "21e6c17d",
   "metadata": {},
   "source": [
    "#### 1.3.2 Временной интервал проводимого теста"
   ]
  },
  {
   "cell_type": "code",
   "execution_count": 13,
   "id": "a10c0713",
   "metadata": {
    "scrolled": true
   },
   "outputs": [
    {
     "name": "stdout",
     "output_type": "stream",
     "text": [
      "Временной интервал таблицы orders  [datetime.date(2019, 8, 1), datetime.date(2019, 8, 31)]\n"
     ]
    }
   ],
   "source": [
    "dt_orders=[]\n",
    "dt_orders.append(min(orders['date'].dt.date))\n",
    "dt_orders.append(max(orders['date'].dt.date))\n",
    "print('Временной интервал таблицы orders ', dt_orders)"
   ]
  },
  {
   "cell_type": "code",
   "execution_count": 14,
   "id": "ec4b50f5",
   "metadata": {},
   "outputs": [
    {
     "name": "stdout",
     "output_type": "stream",
     "text": [
      "Временной интервал таблицы visitors  [datetime.date(2019, 8, 1), datetime.date(2019, 8, 31)]\n"
     ]
    }
   ],
   "source": [
    "dt_visitors=[]\n",
    "dt_visitors.append(min(visitors['date'].dt.date))\n",
    "dt_visitors.append(max(visitors['date'].dt.date))\n",
    "print('Временной интервал таблицы visitors ', dt_orders)"
   ]
  },
  {
   "cell_type": "markdown",
   "id": "26bb50e6",
   "metadata": {},
   "source": [
    "**даты проведеня эксперемента в 2-х таблицах совпадают, и временной интервал эксперемента составляет c 1 по 31 августа 2019 года** "
   ]
  },
  {
   "cell_type": "markdown",
   "id": "394c5a94",
   "metadata": {},
   "source": [
    "#### 1.3.3 Количество пользователей в каждой группе "
   ]
  },
  {
   "cell_type": "code",
   "execution_count": 15,
   "id": "04c11a1b",
   "metadata": {},
   "outputs": [],
   "source": [
    "count_user_a = orders['user_id'][orders['group']=='A'].nunique()"
   ]
  },
  {
   "cell_type": "code",
   "execution_count": 16,
   "id": "8198e659",
   "metadata": {},
   "outputs": [],
   "source": [
    "count_user_b = orders['user_id'][orders['group']=='B'].nunique()"
   ]
  },
  {
   "cell_type": "code",
   "execution_count": 17,
   "id": "df7053f9",
   "metadata": {},
   "outputs": [
    {
     "name": "stdout",
     "output_type": "stream",
     "text": [
      "Количество пользователей в группе А = 503, а в группе В = 586\n"
     ]
    }
   ],
   "source": [
    "print(f'Количество пользователей в группе А = {count_user_a}, а в группе В = {count_user_b}')"
   ]
  },
  {
   "cell_type": "markdown",
   "id": "cd41e183",
   "metadata": {},
   "source": [
    "**группы не равные по колличеству, это стоит отметить и задать вопрос отделу маркетинга, почему они не равны**"
   ]
  },
  {
   "cell_type": "markdown",
   "id": "896653fb",
   "metadata": {},
   "source": [
    "#### 1.3.4 Попадают ли какие-то пользователи в обе группы - по таблице с заказами"
   ]
  },
  {
   "cell_type": "code",
   "execution_count": 18,
   "id": "d623a4ae",
   "metadata": {},
   "outputs": [],
   "source": [
    "count_user_all =orders['user_id'].nunique() # общее число уникальных пользователей"
   ]
  },
  {
   "cell_type": "code",
   "execution_count": 19,
   "id": "560c11f5",
   "metadata": {
    "scrolled": true
   },
   "outputs": [],
   "source": [
    "general_users = (count_user_a + count_user_b) - count_user_all"
   ]
  },
  {
   "cell_type": "code",
   "execution_count": 20,
   "id": "b6c9424e",
   "metadata": {},
   "outputs": [
    {
     "name": "stdout",
     "output_type": "stream",
     "text": [
      "Количество пользователей состоящих в обоих группах = 58\n"
     ]
    }
   ],
   "source": [
    "print(f'Количество пользователей состоящих в обоих группах = {general_users}')"
   ]
  },
  {
   "cell_type": "markdown",
   "id": "e4e79cdf",
   "metadata": {},
   "source": [
    "**группы имеют общих пользователей, это стоит отметить и задать вопрос отделу маркетинга, почему это случилось**"
   ]
  },
  {
   "cell_type": "code",
   "execution_count": 21,
   "id": "becbf25d",
   "metadata": {
    "scrolled": true
   },
   "outputs": [],
   "source": [
    " # сводник по юзерам и кто в какой группе, у некоторых оказалось обе\n",
    "orders_dubll = orders.groupby('user_id').agg({'group':'unique'})\n",
    "orders_dubll = orders_dubll[orders_dubll.group.str.len()>1].reset_index() # узеры, у кого 2 группы"
   ]
  },
  {
   "cell_type": "code",
   "execution_count": 22,
   "id": "d8019966",
   "metadata": {
    "scrolled": true
   },
   "outputs": [
    {
     "data": {
      "text/plain": [
       "(58, 2)"
      ]
     },
     "execution_count": 22,
     "metadata": {},
     "output_type": "execute_result"
    }
   ],
   "source": [
    "orders_dubll.shape # количество наших двойников"
   ]
  },
  {
   "cell_type": "code",
   "execution_count": 23,
   "id": "d14fd81d",
   "metadata": {
    "scrolled": true
   },
   "outputs": [],
   "source": [
    "orders_dubll_id = orders_dubll.user_id.tolist() # создадим список юзеров кто и там и там"
   ]
  },
  {
   "cell_type": "code",
   "execution_count": 24,
   "id": "d2289e00",
   "metadata": {},
   "outputs": [],
   "source": [
    "orders = orders.loc[~orders['user_id'].isin(orders_dubll_id )] # выкинем тех юзеров кто и там и там"
   ]
  },
  {
   "cell_type": "markdown",
   "id": "92a96bc9",
   "metadata": {},
   "source": [
    "#### 1.3.4 Посмотреть динамику посетителей по дням по группам (visitos)."
   ]
  },
  {
   "cell_type": "code",
   "execution_count": 25,
   "id": "105b579c",
   "metadata": {
    "scrolled": false
   },
   "outputs": [],
   "source": [
    "visit_dynamics = visitors.pivot_table(\n",
    "index = 'group', columns = 'date', values = 'visitors', aggfunc = 'sum' ).T.reset_index()\n",
    "visit_dynamics['diff'] = abs(visit_dynamics['A']-visit_dynamics['B'])\n"
   ]
  },
  {
   "cell_type": "code",
   "execution_count": 26,
   "id": "d08ac56f",
   "metadata": {},
   "outputs": [
    {
     "data": {
      "text/html": [
       "<div>\n",
       "<style scoped>\n",
       "    .dataframe tbody tr th:only-of-type {\n",
       "        vertical-align: middle;\n",
       "    }\n",
       "\n",
       "    .dataframe tbody tr th {\n",
       "        vertical-align: top;\n",
       "    }\n",
       "\n",
       "    .dataframe thead th {\n",
       "        text-align: right;\n",
       "    }\n",
       "</style>\n",
       "<table border=\"1\" class=\"dataframe\">\n",
       "  <thead>\n",
       "    <tr style=\"text-align: right;\">\n",
       "      <th>group</th>\n",
       "      <th>date</th>\n",
       "      <th>A</th>\n",
       "      <th>B</th>\n",
       "      <th>diff</th>\n",
       "    </tr>\n",
       "  </thead>\n",
       "  <tbody>\n",
       "    <tr>\n",
       "      <th>0</th>\n",
       "      <td>2019-08-01</td>\n",
       "      <td>719</td>\n",
       "      <td>713</td>\n",
       "      <td>6</td>\n",
       "    </tr>\n",
       "    <tr>\n",
       "      <th>1</th>\n",
       "      <td>2019-08-02</td>\n",
       "      <td>619</td>\n",
       "      <td>581</td>\n",
       "      <td>38</td>\n",
       "    </tr>\n",
       "    <tr>\n",
       "      <th>2</th>\n",
       "      <td>2019-08-03</td>\n",
       "      <td>507</td>\n",
       "      <td>509</td>\n",
       "      <td>2</td>\n",
       "    </tr>\n",
       "    <tr>\n",
       "      <th>3</th>\n",
       "      <td>2019-08-04</td>\n",
       "      <td>717</td>\n",
       "      <td>770</td>\n",
       "      <td>53</td>\n",
       "    </tr>\n",
       "    <tr>\n",
       "      <th>4</th>\n",
       "      <td>2019-08-05</td>\n",
       "      <td>756</td>\n",
       "      <td>707</td>\n",
       "      <td>49</td>\n",
       "    </tr>\n",
       "    <tr>\n",
       "      <th>5</th>\n",
       "      <td>2019-08-06</td>\n",
       "      <td>667</td>\n",
       "      <td>655</td>\n",
       "      <td>12</td>\n",
       "    </tr>\n",
       "    <tr>\n",
       "      <th>6</th>\n",
       "      <td>2019-08-07</td>\n",
       "      <td>644</td>\n",
       "      <td>709</td>\n",
       "      <td>65</td>\n",
       "    </tr>\n",
       "    <tr>\n",
       "      <th>7</th>\n",
       "      <td>2019-08-08</td>\n",
       "      <td>610</td>\n",
       "      <td>654</td>\n",
       "      <td>44</td>\n",
       "    </tr>\n",
       "    <tr>\n",
       "      <th>8</th>\n",
       "      <td>2019-08-09</td>\n",
       "      <td>617</td>\n",
       "      <td>610</td>\n",
       "      <td>7</td>\n",
       "    </tr>\n",
       "    <tr>\n",
       "      <th>9</th>\n",
       "      <td>2019-08-10</td>\n",
       "      <td>406</td>\n",
       "      <td>369</td>\n",
       "      <td>37</td>\n",
       "    </tr>\n",
       "    <tr>\n",
       "      <th>10</th>\n",
       "      <td>2019-08-11</td>\n",
       "      <td>718</td>\n",
       "      <td>721</td>\n",
       "      <td>3</td>\n",
       "    </tr>\n",
       "    <tr>\n",
       "      <th>11</th>\n",
       "      <td>2019-08-12</td>\n",
       "      <td>595</td>\n",
       "      <td>543</td>\n",
       "      <td>52</td>\n",
       "    </tr>\n",
       "    <tr>\n",
       "      <th>12</th>\n",
       "      <td>2019-08-13</td>\n",
       "      <td>748</td>\n",
       "      <td>769</td>\n",
       "      <td>21</td>\n",
       "    </tr>\n",
       "    <tr>\n",
       "      <th>13</th>\n",
       "      <td>2019-08-14</td>\n",
       "      <td>735</td>\n",
       "      <td>746</td>\n",
       "      <td>11</td>\n",
       "    </tr>\n",
       "    <tr>\n",
       "      <th>14</th>\n",
       "      <td>2019-08-15</td>\n",
       "      <td>628</td>\n",
       "      <td>544</td>\n",
       "      <td>84</td>\n",
       "    </tr>\n",
       "    <tr>\n",
       "      <th>15</th>\n",
       "      <td>2019-08-16</td>\n",
       "      <td>361</td>\n",
       "      <td>413</td>\n",
       "      <td>52</td>\n",
       "    </tr>\n",
       "    <tr>\n",
       "      <th>16</th>\n",
       "      <td>2019-08-17</td>\n",
       "      <td>412</td>\n",
       "      <td>421</td>\n",
       "      <td>9</td>\n",
       "    </tr>\n",
       "    <tr>\n",
       "      <th>17</th>\n",
       "      <td>2019-08-18</td>\n",
       "      <td>668</td>\n",
       "      <td>737</td>\n",
       "      <td>69</td>\n",
       "    </tr>\n",
       "    <tr>\n",
       "      <th>18</th>\n",
       "      <td>2019-08-19</td>\n",
       "      <td>502</td>\n",
       "      <td>487</td>\n",
       "      <td>15</td>\n",
       "    </tr>\n",
       "    <tr>\n",
       "      <th>19</th>\n",
       "      <td>2019-08-20</td>\n",
       "      <td>575</td>\n",
       "      <td>560</td>\n",
       "      <td>15</td>\n",
       "    </tr>\n",
       "    <tr>\n",
       "      <th>20</th>\n",
       "      <td>2019-08-21</td>\n",
       "      <td>646</td>\n",
       "      <td>656</td>\n",
       "      <td>10</td>\n",
       "    </tr>\n",
       "    <tr>\n",
       "      <th>21</th>\n",
       "      <td>2019-08-22</td>\n",
       "      <td>609</td>\n",
       "      <td>650</td>\n",
       "      <td>41</td>\n",
       "    </tr>\n",
       "    <tr>\n",
       "      <th>22</th>\n",
       "      <td>2019-08-23</td>\n",
       "      <td>468</td>\n",
       "      <td>546</td>\n",
       "      <td>78</td>\n",
       "    </tr>\n",
       "    <tr>\n",
       "      <th>23</th>\n",
       "      <td>2019-08-24</td>\n",
       "      <td>395</td>\n",
       "      <td>378</td>\n",
       "      <td>17</td>\n",
       "    </tr>\n",
       "    <tr>\n",
       "      <th>24</th>\n",
       "      <td>2019-08-25</td>\n",
       "      <td>621</td>\n",
       "      <td>679</td>\n",
       "      <td>58</td>\n",
       "    </tr>\n",
       "    <tr>\n",
       "      <th>25</th>\n",
       "      <td>2019-08-26</td>\n",
       "      <td>722</td>\n",
       "      <td>676</td>\n",
       "      <td>46</td>\n",
       "    </tr>\n",
       "    <tr>\n",
       "      <th>26</th>\n",
       "      <td>2019-08-27</td>\n",
       "      <td>711</td>\n",
       "      <td>720</td>\n",
       "      <td>9</td>\n",
       "    </tr>\n",
       "    <tr>\n",
       "      <th>27</th>\n",
       "      <td>2019-08-28</td>\n",
       "      <td>594</td>\n",
       "      <td>654</td>\n",
       "      <td>60</td>\n",
       "    </tr>\n",
       "    <tr>\n",
       "      <th>28</th>\n",
       "      <td>2019-08-29</td>\n",
       "      <td>577</td>\n",
       "      <td>531</td>\n",
       "      <td>46</td>\n",
       "    </tr>\n",
       "    <tr>\n",
       "      <th>29</th>\n",
       "      <td>2019-08-30</td>\n",
       "      <td>490</td>\n",
       "      <td>490</td>\n",
       "      <td>0</td>\n",
       "    </tr>\n",
       "    <tr>\n",
       "      <th>30</th>\n",
       "      <td>2019-08-31</td>\n",
       "      <td>699</td>\n",
       "      <td>718</td>\n",
       "      <td>19</td>\n",
       "    </tr>\n",
       "  </tbody>\n",
       "</table>\n",
       "</div>"
      ],
      "text/plain": [
       "group       date    A    B  diff\n",
       "0     2019-08-01  719  713     6\n",
       "1     2019-08-02  619  581    38\n",
       "2     2019-08-03  507  509     2\n",
       "3     2019-08-04  717  770    53\n",
       "4     2019-08-05  756  707    49\n",
       "5     2019-08-06  667  655    12\n",
       "6     2019-08-07  644  709    65\n",
       "7     2019-08-08  610  654    44\n",
       "8     2019-08-09  617  610     7\n",
       "9     2019-08-10  406  369    37\n",
       "10    2019-08-11  718  721     3\n",
       "11    2019-08-12  595  543    52\n",
       "12    2019-08-13  748  769    21\n",
       "13    2019-08-14  735  746    11\n",
       "14    2019-08-15  628  544    84\n",
       "15    2019-08-16  361  413    52\n",
       "16    2019-08-17  412  421     9\n",
       "17    2019-08-18  668  737    69\n",
       "18    2019-08-19  502  487    15\n",
       "19    2019-08-20  575  560    15\n",
       "20    2019-08-21  646  656    10\n",
       "21    2019-08-22  609  650    41\n",
       "22    2019-08-23  468  546    78\n",
       "23    2019-08-24  395  378    17\n",
       "24    2019-08-25  621  679    58\n",
       "25    2019-08-26  722  676    46\n",
       "26    2019-08-27  711  720     9\n",
       "27    2019-08-28  594  654    60\n",
       "28    2019-08-29  577  531    46\n",
       "29    2019-08-30  490  490     0\n",
       "30    2019-08-31  699  718    19"
      ]
     },
     "execution_count": 26,
     "metadata": {},
     "output_type": "execute_result"
    }
   ],
   "source": [
    "visit_dynamics"
   ]
  },
  {
   "cell_type": "code",
   "execution_count": 27,
   "id": "27ede2a7",
   "metadata": {},
   "outputs": [
    {
     "data": {
      "text/plain": [
       "33.16129032258065"
      ]
     },
     "execution_count": 27,
     "metadata": {},
     "output_type": "execute_result"
    }
   ],
   "source": [
    "visit_dynamics['diff'].mean()"
   ]
  },
  {
   "cell_type": "markdown",
   "id": "e851d1c4",
   "metadata": {},
   "source": [
    "**Количество визитеров по дням для групп так же не сопадает. В среднем они отличаются на 33 человека.**"
   ]
  },
  {
   "cell_type": "markdown",
   "id": "71dab030",
   "metadata": {},
   "source": [
    "## 2. Приоретизирование гипотез"
   ]
  },
  {
   "cell_type": "markdown",
   "id": "40cf4b96",
   "metadata": {},
   "source": [
    "### 2.1 Фреймворк ICE"
   ]
  },
  {
   "cell_type": "code",
   "execution_count": 28,
   "id": "6d9ec7e5",
   "metadata": {},
   "outputs": [],
   "source": [
    "pd.set_option('display.max_colwidth', None) # вывод текста столбцов целиком"
   ]
  },
  {
   "cell_type": "code",
   "execution_count": 29,
   "id": "3fe18ff2",
   "metadata": {
    "scrolled": true
   },
   "outputs": [
    {
     "data": {
      "text/html": [
       "<div>\n",
       "<style scoped>\n",
       "    .dataframe tbody tr th:only-of-type {\n",
       "        vertical-align: middle;\n",
       "    }\n",
       "\n",
       "    .dataframe tbody tr th {\n",
       "        vertical-align: top;\n",
       "    }\n",
       "\n",
       "    .dataframe thead th {\n",
       "        text-align: right;\n",
       "    }\n",
       "</style>\n",
       "<table border=\"1\" class=\"dataframe\">\n",
       "  <thead>\n",
       "    <tr style=\"text-align: right;\">\n",
       "      <th></th>\n",
       "      <th>hypothesis</th>\n",
       "      <th>reach</th>\n",
       "      <th>impact</th>\n",
       "      <th>confidence</th>\n",
       "      <th>efforts</th>\n",
       "      <th>ice</th>\n",
       "    </tr>\n",
       "  </thead>\n",
       "  <tbody>\n",
       "    <tr>\n",
       "      <th>8</th>\n",
       "      <td>Запустить акцию, дающую скидку на товар в день рождения</td>\n",
       "      <td>1</td>\n",
       "      <td>9</td>\n",
       "      <td>9</td>\n",
       "      <td>5</td>\n",
       "      <td>16.20</td>\n",
       "    </tr>\n",
       "    <tr>\n",
       "      <th>0</th>\n",
       "      <td>Добавить два новых канала привлечения трафика, что позволит привлекать на 30% больше пользователей</td>\n",
       "      <td>3</td>\n",
       "      <td>10</td>\n",
       "      <td>8</td>\n",
       "      <td>6</td>\n",
       "      <td>13.33</td>\n",
       "    </tr>\n",
       "    <tr>\n",
       "      <th>7</th>\n",
       "      <td>Добавить форму подписки на все основные страницы, чтобы собрать базу клиентов для email-рассылок</td>\n",
       "      <td>10</td>\n",
       "      <td>7</td>\n",
       "      <td>8</td>\n",
       "      <td>5</td>\n",
       "      <td>11.20</td>\n",
       "    </tr>\n",
       "    <tr>\n",
       "      <th>6</th>\n",
       "      <td>Показать на главной странице баннеры с актуальными акциями и распродажами, чтобы увеличить конверсию</td>\n",
       "      <td>5</td>\n",
       "      <td>3</td>\n",
       "      <td>8</td>\n",
       "      <td>3</td>\n",
       "      <td>8.00</td>\n",
       "    </tr>\n",
       "    <tr>\n",
       "      <th>2</th>\n",
       "      <td>Добавить блоки рекомендаций товаров на сайт интернет магазина, чтобы повысить конверсию и средний чек заказа</td>\n",
       "      <td>8</td>\n",
       "      <td>3</td>\n",
       "      <td>7</td>\n",
       "      <td>3</td>\n",
       "      <td>7.00</td>\n",
       "    </tr>\n",
       "    <tr>\n",
       "      <th>1</th>\n",
       "      <td>Запустить собственную службу доставки, что сократит срок доставки заказов</td>\n",
       "      <td>2</td>\n",
       "      <td>5</td>\n",
       "      <td>4</td>\n",
       "      <td>10</td>\n",
       "      <td>2.00</td>\n",
       "    </tr>\n",
       "    <tr>\n",
       "      <th>5</th>\n",
       "      <td>Добавить страницу отзывов клиентов о магазине, что позволит увеличить количество заказов</td>\n",
       "      <td>3</td>\n",
       "      <td>2</td>\n",
       "      <td>2</td>\n",
       "      <td>3</td>\n",
       "      <td>1.33</td>\n",
       "    </tr>\n",
       "    <tr>\n",
       "      <th>3</th>\n",
       "      <td>Изменить структура категорий, что увеличит конверсию, т.к. пользователи быстрее найдут нужный товар</td>\n",
       "      <td>8</td>\n",
       "      <td>3</td>\n",
       "      <td>3</td>\n",
       "      <td>8</td>\n",
       "      <td>1.12</td>\n",
       "    </tr>\n",
       "    <tr>\n",
       "      <th>4</th>\n",
       "      <td>Изменить цвет фона главной страницы, чтобы увеличить вовлеченность пользователей</td>\n",
       "      <td>3</td>\n",
       "      <td>1</td>\n",
       "      <td>1</td>\n",
       "      <td>1</td>\n",
       "      <td>1.00</td>\n",
       "    </tr>\n",
       "  </tbody>\n",
       "</table>\n",
       "</div>"
      ],
      "text/plain": [
       "                                                                                                     hypothesis  \\\n",
       "8                                                       Запустить акцию, дающую скидку на товар в день рождения   \n",
       "0            Добавить два новых канала привлечения трафика, что позволит привлекать на 30% больше пользователей   \n",
       "7              Добавить форму подписки на все основные страницы, чтобы собрать базу клиентов для email-рассылок   \n",
       "6          Показать на главной странице баннеры с актуальными акциями и распродажами, чтобы увеличить конверсию   \n",
       "2  Добавить блоки рекомендаций товаров на сайт интернет магазина, чтобы повысить конверсию и средний чек заказа   \n",
       "1                                     Запустить собственную службу доставки, что сократит срок доставки заказов   \n",
       "5                      Добавить страницу отзывов клиентов о магазине, что позволит увеличить количество заказов   \n",
       "3           Изменить структура категорий, что увеличит конверсию, т.к. пользователи быстрее найдут нужный товар   \n",
       "4                              Изменить цвет фона главной страницы, чтобы увеличить вовлеченность пользователей   \n",
       "\n",
       "   reach  impact  confidence  efforts    ice  \n",
       "8      1       9           9        5  16.20  \n",
       "0      3      10           8        6  13.33  \n",
       "7     10       7           8        5  11.20  \n",
       "6      5       3           8        3   8.00  \n",
       "2      8       3           7        3   7.00  \n",
       "1      2       5           4       10   2.00  \n",
       "5      3       2           2        3   1.33  \n",
       "3      8       3           3        8   1.12  \n",
       "4      3       1           1        1   1.00  "
      ]
     },
     "execution_count": 29,
     "metadata": {},
     "output_type": "execute_result"
    }
   ],
   "source": [
    "df['ice'] = round(df['impact']*df['confidence']/df['efforts'], 2)\n",
    "df.sort_values('ice', ascending= False)"
   ]
  },
  {
   "cell_type": "markdown",
   "id": "40ff28fd",
   "metadata": {},
   "source": [
    "### 2.2. Фреймворк RICE"
   ]
  },
  {
   "cell_type": "code",
   "execution_count": 30,
   "id": "b66e0393",
   "metadata": {},
   "outputs": [
    {
     "data": {
      "text/html": [
       "<div>\n",
       "<style scoped>\n",
       "    .dataframe tbody tr th:only-of-type {\n",
       "        vertical-align: middle;\n",
       "    }\n",
       "\n",
       "    .dataframe tbody tr th {\n",
       "        vertical-align: top;\n",
       "    }\n",
       "\n",
       "    .dataframe thead th {\n",
       "        text-align: right;\n",
       "    }\n",
       "</style>\n",
       "<table border=\"1\" class=\"dataframe\">\n",
       "  <thead>\n",
       "    <tr style=\"text-align: right;\">\n",
       "      <th></th>\n",
       "      <th>hypothesis</th>\n",
       "      <th>reach</th>\n",
       "      <th>impact</th>\n",
       "      <th>confidence</th>\n",
       "      <th>efforts</th>\n",
       "      <th>ice</th>\n",
       "      <th>rice</th>\n",
       "    </tr>\n",
       "  </thead>\n",
       "  <tbody>\n",
       "    <tr>\n",
       "      <th>7</th>\n",
       "      <td>Добавить форму подписки на все основные страницы, чтобы собрать базу клиентов для email-рассылок</td>\n",
       "      <td>10</td>\n",
       "      <td>7</td>\n",
       "      <td>8</td>\n",
       "      <td>5</td>\n",
       "      <td>11.20</td>\n",
       "      <td>112.0</td>\n",
       "    </tr>\n",
       "    <tr>\n",
       "      <th>2</th>\n",
       "      <td>Добавить блоки рекомендаций товаров на сайт интернет магазина, чтобы повысить конверсию и средний чек заказа</td>\n",
       "      <td>8</td>\n",
       "      <td>3</td>\n",
       "      <td>7</td>\n",
       "      <td>3</td>\n",
       "      <td>7.00</td>\n",
       "      <td>56.0</td>\n",
       "    </tr>\n",
       "    <tr>\n",
       "      <th>0</th>\n",
       "      <td>Добавить два новых канала привлечения трафика, что позволит привлекать на 30% больше пользователей</td>\n",
       "      <td>3</td>\n",
       "      <td>10</td>\n",
       "      <td>8</td>\n",
       "      <td>6</td>\n",
       "      <td>13.33</td>\n",
       "      <td>40.0</td>\n",
       "    </tr>\n",
       "    <tr>\n",
       "      <th>6</th>\n",
       "      <td>Показать на главной странице баннеры с актуальными акциями и распродажами, чтобы увеличить конверсию</td>\n",
       "      <td>5</td>\n",
       "      <td>3</td>\n",
       "      <td>8</td>\n",
       "      <td>3</td>\n",
       "      <td>8.00</td>\n",
       "      <td>40.0</td>\n",
       "    </tr>\n",
       "    <tr>\n",
       "      <th>8</th>\n",
       "      <td>Запустить акцию, дающую скидку на товар в день рождения</td>\n",
       "      <td>1</td>\n",
       "      <td>9</td>\n",
       "      <td>9</td>\n",
       "      <td>5</td>\n",
       "      <td>16.20</td>\n",
       "      <td>16.2</td>\n",
       "    </tr>\n",
       "    <tr>\n",
       "      <th>3</th>\n",
       "      <td>Изменить структура категорий, что увеличит конверсию, т.к. пользователи быстрее найдут нужный товар</td>\n",
       "      <td>8</td>\n",
       "      <td>3</td>\n",
       "      <td>3</td>\n",
       "      <td>8</td>\n",
       "      <td>1.12</td>\n",
       "      <td>9.0</td>\n",
       "    </tr>\n",
       "    <tr>\n",
       "      <th>1</th>\n",
       "      <td>Запустить собственную службу доставки, что сократит срок доставки заказов</td>\n",
       "      <td>2</td>\n",
       "      <td>5</td>\n",
       "      <td>4</td>\n",
       "      <td>10</td>\n",
       "      <td>2.00</td>\n",
       "      <td>4.0</td>\n",
       "    </tr>\n",
       "    <tr>\n",
       "      <th>5</th>\n",
       "      <td>Добавить страницу отзывов клиентов о магазине, что позволит увеличить количество заказов</td>\n",
       "      <td>3</td>\n",
       "      <td>2</td>\n",
       "      <td>2</td>\n",
       "      <td>3</td>\n",
       "      <td>1.33</td>\n",
       "      <td>4.0</td>\n",
       "    </tr>\n",
       "    <tr>\n",
       "      <th>4</th>\n",
       "      <td>Изменить цвет фона главной страницы, чтобы увеличить вовлеченность пользователей</td>\n",
       "      <td>3</td>\n",
       "      <td>1</td>\n",
       "      <td>1</td>\n",
       "      <td>1</td>\n",
       "      <td>1.00</td>\n",
       "      <td>3.0</td>\n",
       "    </tr>\n",
       "  </tbody>\n",
       "</table>\n",
       "</div>"
      ],
      "text/plain": [
       "                                                                                                     hypothesis  \\\n",
       "7              Добавить форму подписки на все основные страницы, чтобы собрать базу клиентов для email-рассылок   \n",
       "2  Добавить блоки рекомендаций товаров на сайт интернет магазина, чтобы повысить конверсию и средний чек заказа   \n",
       "0            Добавить два новых канала привлечения трафика, что позволит привлекать на 30% больше пользователей   \n",
       "6          Показать на главной странице баннеры с актуальными акциями и распродажами, чтобы увеличить конверсию   \n",
       "8                                                       Запустить акцию, дающую скидку на товар в день рождения   \n",
       "3           Изменить структура категорий, что увеличит конверсию, т.к. пользователи быстрее найдут нужный товар   \n",
       "1                                     Запустить собственную службу доставки, что сократит срок доставки заказов   \n",
       "5                      Добавить страницу отзывов клиентов о магазине, что позволит увеличить количество заказов   \n",
       "4                              Изменить цвет фона главной страницы, чтобы увеличить вовлеченность пользователей   \n",
       "\n",
       "   reach  impact  confidence  efforts    ice   rice  \n",
       "7     10       7           8        5  11.20  112.0  \n",
       "2      8       3           7        3   7.00   56.0  \n",
       "0      3      10           8        6  13.33   40.0  \n",
       "6      5       3           8        3   8.00   40.0  \n",
       "8      1       9           9        5  16.20   16.2  \n",
       "3      8       3           3        8   1.12    9.0  \n",
       "1      2       5           4       10   2.00    4.0  \n",
       "5      3       2           2        3   1.33    4.0  \n",
       "4      3       1           1        1   1.00    3.0  "
      ]
     },
     "execution_count": 30,
     "metadata": {},
     "output_type": "execute_result"
    }
   ],
   "source": [
    "df['rice'] = round(df['reach'] * df['impact']*df['confidence']/df['efforts'], 2)\n",
    "df.sort_values('rice', ascending= False)"
   ]
  },
  {
   "cell_type": "markdown",
   "id": "0170bea9",
   "metadata": {},
   "source": [
    "### Вывод по шагу 2\n",
    "- разные фреймворки дали разный результат в приоритете\n",
    "- после добавления признака `reach` приоритет именился. Количество пользователей, которых затронет изменение напрямую повлиял на приоритетность гипотез"
   ]
  },
  {
   "cell_type": "markdown",
   "id": "bbdd7133",
   "metadata": {},
   "source": [
    "### Вывод по шагу 2\n",
    "При оценке 9 предложенных гипотез были посчитаны 2 фреймворка ICE и RICE. Если не брать во внимание парамер reach (Количество пользователей, которых затронет изменение) то наиболее приоритетной следует считать гипотезу \"Запустить акцию, дающую скидку на товар в день рождения\"\n",
    "\n",
    "Если считать параметр reach важным, то согласно фреймворку RICE главной следует считать гипотезу: \"Добавить форму подписки на все основные страницы, чтобы собрать базу клиентов для email-рассылок\""
   ]
  },
  {
   "cell_type": "markdown",
   "id": "65e3c6f2",
   "metadata": {},
   "source": [
    "## 3. Запуск А/Б тестов"
   ]
  },
  {
   "cell_type": "markdown",
   "id": "11e60aa8",
   "metadata": {},
   "source": [
    "### 3.1 График кумулятивной выручки по группам."
   ]
  },
  {
   "cell_type": "code",
   "execution_count": 31,
   "id": "4f20519e",
   "metadata": {},
   "outputs": [],
   "source": [
    "# создаем массив уникальных пар значений дат и групп теста\n",
    "dates_groups = orders[['date','group']].drop_duplicates() "
   ]
  },
  {
   "cell_type": "code",
   "execution_count": 32,
   "id": "792616d5",
   "metadata": {},
   "outputs": [],
   "source": [
    "# получаем агрегированные кумулятивные по дням данные о заказах \n",
    "orders_aggregated = dates_groups.apply(lambda x: orders[np.logical_and(orders['date'] <= x['date'], \n",
    "                                                                       orders['group'] == x['group'])]\\\n",
    ".agg({'date' : 'max', 'group' : 'max', 'order_id' : 'nunique', 'user_id' : 'nunique', 'revenue' : 'sum'}), \n",
    "                                       axis=1).sort_values(by=['date','group'])\n",
    "\n",
    "\n",
    "\n",
    "\n"
   ]
  },
  {
   "cell_type": "code",
   "execution_count": 33,
   "id": "d923212a",
   "metadata": {},
   "outputs": [],
   "source": [
    "# получаем агрегированные кумулятивные по дням данные о посетителях интернет-магазина \n",
    "visitors_aggregated = dates_groups.apply(\n",
    "    lambda x: visitors[np.logical_and(visitors['date'] <= x['date'], \n",
    "visitors['group'] == x['group'])].agg({'date' : 'max', 'group' : 'max', 'visitors' : 'sum'}), axis=1)\\\n",
    ".sort_values(by=['date','group'])"
   ]
  },
  {
   "cell_type": "code",
   "execution_count": 34,
   "id": "5e08763f",
   "metadata": {},
   "outputs": [
    {
     "name": "stdout",
     "output_type": "stream",
     "text": [
      "        date group  orders  buyers  revenue  visitors\n",
      "0 2019-08-01     A      23      19   142779       719\n",
      "1 2019-08-01     B      17      17    59758       713\n",
      "2 2019-08-02     A      42      36   234381      1338\n",
      "3 2019-08-02     B      40      39   221801      1294\n",
      "4 2019-08-03     A      66      60   346854      1845\n"
     ]
    }
   ],
   "source": [
    "# объединяем кумулятивные данные в одной таблице и присваиваем ее столбцам понятные названия\n",
    "cumulative_data = orders_aggregated.merge(visitors_aggregated, left_on=['date', 'group'], right_on=['date', 'group'])\n",
    "cumulative_data.columns = ['date', 'group', 'orders', 'buyers', 'revenue', 'visitors']\n",
    "\n",
    "print(cumulative_data.head(5)) "
   ]
  },
  {
   "cell_type": "code",
   "execution_count": 35,
   "id": "a4a35922",
   "metadata": {},
   "outputs": [
    {
     "name": "stdout",
     "output_type": "stream",
     "text": [
      "Временной интервал таблицы orders  [datetime.date(2019, 8, 1), datetime.date(2019, 8, 31)]\n",
      "Временной интервал таблицы cumulative_data  [datetime.date(2019, 8, 1), datetime.date(2019, 8, 31)]\n"
     ]
    }
   ],
   "source": [
    "dt_cumulative_data=[]\n",
    "dt_cumulative_data.append(min(cumulative_data['date'].dt.date))\n",
    "dt_cumulative_data.append(max(cumulative_data['date'].dt.date))\n",
    "print('Временной интервал таблицы orders ', dt_orders)\n",
    "print('Временной интервал таблицы cumulative_data ', dt_cumulative_data)\n"
   ]
  },
  {
   "cell_type": "markdown",
   "id": "be7863e8",
   "metadata": {},
   "source": [
    "**временные интервалы совпадают, все корректно**"
   ]
  },
  {
   "cell_type": "code",
   "execution_count": 36,
   "id": "39806989",
   "metadata": {},
   "outputs": [
    {
     "data": {
      "image/png": "[encoded data removed]",
      "text/plain": [
       "<Figure size 432x288 with 1 Axes>"
      ]
     },
     "metadata": {
      "needs_background": "light"
     },
     "output_type": "display_data"
    }
   ],
   "source": [
    "# датафрейм с кумулятивным количеством заказов и кумулятивной выручкой по дням в группе А\n",
    "cumulative_revenue_a = cumulative_data[cumulative_data['group']=='A'][['date','revenue', 'orders']]\n",
    "\n",
    "# датафрейм с кумулятивным количеством заказов и кумулятивной выручкой по дням в группе B\n",
    "cumulative_revenue_b = cumulative_data[cumulative_data['group']=='B'][['date','revenue', 'orders']]\n",
    "\n",
    "# Строим график выручки группы А\n",
    "plt.plot(cumulative_revenue_a['date'], cumulative_revenue_a['revenue'], label='A')\n",
    "\n",
    "# Строим график выручки группы B\n",
    "plt.plot(cumulative_revenue_b['date'], cumulative_revenue_b['revenue'], label='B')\n",
    "plt.xticks(rotation=45 )\n",
    "\n",
    "plt.title('График кумулятивной выручки по группам')\n",
    "plt.xlabel('Временной интервал')\n",
    "plt.ylabel('Выручка')\n",
    "plt.legend(); "
   ]
  },
  {
   "cell_type": "markdown",
   "id": "48f220e1",
   "metadata": {},
   "source": [
    "###   Вывод по шагу 3.1 \n",
    "Выручка почти равномерно увеличивается в течение всего теста. \n",
    "Однако график выручки В резко вырос в одной точке. \n",
    "\n",
    "Т.к. выручка = конверсия * средний чек, поэтому если выручка выросла, то мог увеличится средний чек (возможно там были выбросы. Аномально большая сумма покупки), а могло увеличится количество заказов (т.е. конверсия).\n",
    "\n",
    "В дальнейшем увеличение равномерно у обоих групп. Группа В после всплеска сохраняет свое первенство."
   ]
  },
  {
   "cell_type": "markdown",
   "id": "7bea5723",
   "metadata": {},
   "source": [
    "### 3.2 График кумулятивного среднего чека по группам"
   ]
  },
  {
   "cell_type": "code",
   "execution_count": 37,
   "id": "87cbb34b",
   "metadata": {},
   "outputs": [
    {
     "data": {
      "image/png": "[encoded data removed]",
      "text/plain": [
       "<Figure size 432x288 with 1 Axes>"
      ]
     },
     "metadata": {
      "needs_background": "light"
     },
     "output_type": "display_data"
    }
   ],
   "source": [
    "plt.plot(cumulative_revenue_a['date'], cumulative_revenue_a['revenue']/cumulative_revenue_a['orders'], label='A')\n",
    "plt.plot(cumulative_revenue_b['date'], cumulative_revenue_b['revenue']/cumulative_revenue_b['orders'], label='B')\n",
    "plt.xticks(rotation=45)\n",
    "plt.title('График кумулятивного среднего чека по группам')\n",
    "plt.xlabel('Временной интервал')\n",
    "plt.ylabel('средний чек')\n",
    "plt.legend();"
   ]
  },
  {
   "cell_type": "markdown",
   "id": "52e87052",
   "metadata": {},
   "source": [
    "### Вывод по шагу 3.2\n",
    "\n",
    "В группе В в тот же период времени (скачок кумулятивной выручки, п. 3.1) виден скачок среднего чека. Возможно это выброс. Далее в группе В средний чек уменьшается, а в группа А растет."
   ]
  },
  {
   "cell_type": "markdown",
   "id": "c0fd9c5a",
   "metadata": {},
   "source": [
    "### 3.3 График относительного изменения кумулятивного среднего чека группы B к группе A. "
   ]
  },
  {
   "cell_type": "code",
   "execution_count": 38,
   "id": "69a2f7c6",
   "metadata": {},
   "outputs": [],
   "source": [
    "# собираем данные в одном датафрейме\n",
    "merged_cumulative_revenue = cumulative_revenue_a\\\n",
    ".merge(cumulative_revenue_b, left_on='date', right_on='date', how='left', suffixes=['_a', '_b'])\n",
    "\n"
   ]
  },
  {
   "cell_type": "code",
   "execution_count": 39,
   "id": "3437d820",
   "metadata": {},
   "outputs": [
    {
     "data": {
      "image/png": "[encoded data removed]",
      "text/plain": [
       "<Figure size 432x288 with 1 Axes>"
      ]
     },
     "metadata": {
      "needs_background": "light"
     },
     "output_type": "display_data"
    }
   ],
   "source": [
    "# cтроим отношение средних чеков\n",
    "plt.plot(merged_cumulative_revenue['date'],\\\n",
    "         (merged_cumulative_revenue['revenue_b']/merged_cumulative_revenue['orders_b'])\\\n",
    "         /(merged_cumulative_revenue['revenue_a']/merged_cumulative_revenue['orders_a'])-1)\n",
    "\n",
    "# добавляем ось X\n",
    "plt.axhline(y=0, color='black', linestyle='--') \n",
    "plt.xticks(rotation=45)\n",
    "plt.title('График относительного изменения кумулятивного среднего чека группы B к группе A')\n",
    "plt.xlabel('Временной интервал')\n",
    "plt.ylabel('отношение в долях');"
   ]
  },
  {
   "cell_type": "markdown",
   "id": "4cf2873c",
   "metadata": {},
   "source": [
    "### Вывод по шагу 3.3 \n",
    "В нескольких точках график различия между сегментами резко «скачет». Это говорит о возможных крупных заказах или выбросах."
   ]
  },
  {
   "cell_type": "markdown",
   "id": "9e185f50",
   "metadata": {},
   "source": [
    "### 3.4 График кумулятивного среднего количества заказов на посетителя по группам. "
   ]
  },
  {
   "cell_type": "code",
   "execution_count": 40,
   "id": "483d8a62",
   "metadata": {},
   "outputs": [
    {
     "data": {
      "image/png": "[encoded data removed]",
      "text/plain": [
       "<Figure size 432x288 with 1 Axes>"
      ]
     },
     "metadata": {
      "needs_background": "light"
     },
     "output_type": "display_data"
    }
   ],
   "source": [
    "# считаем кумулятивную конверсию\n",
    "cumulative_data['conversion'] = cumulative_data['orders']/cumulative_data['visitors']\n",
    "\n",
    "# отделяем данные по группе A\n",
    "cumulative_data_a = cumulative_data[cumulative_data['group']=='A']\n",
    "\n",
    "# отделяем данные по группе B\n",
    "cumulative_data_b = cumulative_data[cumulative_data['group']=='B']\n",
    "\n",
    "# строим графики\n",
    "plt.plot(cumulative_data_a['date'], cumulative_data_a['conversion'], label='A')\n",
    "plt.plot(cumulative_data_b['date'], cumulative_data_b['conversion'], label='B')\n",
    "plt.legend()\n",
    "plt.title('График кумулятивного среднего количества заказов на посетителя по группам')\n",
    "plt.xlabel('Временной интервал')\n",
    "plt.ylabel('среднее количество заказов')\n",
    "\n",
    "plt.xticks(rotation=45);"
   ]
  },
  {
   "cell_type": "markdown",
   "id": "08aa0cd3",
   "metadata": {},
   "source": [
    "### Вывод по шагу 3.4 \n",
    "После конкретной даты графики изменились и в целом группа В имеет гораздо более высокий уровень кумулятивного среднего количества заказов на посетителя по группам, чем группа А. По динамике присутстуют колебания у обеих групп. Во второй половине теста обе группы отмечают значительную стабилизацию."
   ]
  },
  {
   "cell_type": "markdown",
   "id": "d2f52d75",
   "metadata": {},
   "source": [
    "### 3.5  График относительного изменения кумулятивного среднего количества заказов на посетителя группы B к группе A. "
   ]
  },
  {
   "cell_type": "code",
   "execution_count": 41,
   "id": "9904ceb7",
   "metadata": {
    "scrolled": true
   },
   "outputs": [
    {
     "data": {
      "image/png": "[encoded data removed]",
      "text/plain": [
       "<Figure size 432x288 with 1 Axes>"
      ]
     },
     "metadata": {
      "needs_background": "light"
     },
     "output_type": "display_data"
    }
   ],
   "source": [
    "merged_сumulative_сonversions = cumulative_data_a[['date','conversion']].merge(cumulative_data_b[['date','conversion']],\\\n",
    "                                left_on='date', right_on='date', how='left', suffixes=['_a', '_b'])\n",
    "\n",
    "plt.plot(merged_сumulative_сonversions ['date'], merged_сumulative_сonversions ['conversion_b']\\\n",
    "         /merged_сumulative_сonversions ['conversion_a']-1, \\\n",
    "         label=\"Относительный прирост конверсии группы B относительно группы A\")\n",
    "plt.legend(bbox_to_anchor=(1, 0.6))\n",
    "\n",
    "plt.axhline(y=0, color='black', linestyle='--')\n",
    "plt.axhline(y=-0.1, color='grey', linestyle='--')\n",
    "plt.xticks(rotation=45)\n",
    "plt.title('График относительного изменения кумулятивного среднего количества заказов на посетителя группы B к группе A')\n",
    "plt.xlabel('Временной интервал')\n",
    "plt.ylabel('отношение в долях');\n"
   ]
  },
  {
   "cell_type": "markdown",
   "id": "6386930d",
   "metadata": {},
   "source": [
    "### Вывод по шагу 3.5\n",
    "\n",
    "В начале наблюдений группа В проигрывала группе А, но довольно резко ушла в отрыв. Потом произошел спад, но далее группа В опять резко улучшила свои показатели и далее всегда была луше, чем А. "
   ]
  },
  {
   "cell_type": "markdown",
   "id": "7e929278",
   "metadata": {},
   "source": [
    "###  3.6 Точечный график стоимости заказов по пользователям. "
   ]
  },
  {
   "cell_type": "code",
   "execution_count": 42,
   "id": "9e5735f4",
   "metadata": {},
   "outputs": [
    {
     "data": {
      "image/png": "[encoded data removed]",
      "text/plain": [
       "<Figure size 432x288 with 1 Axes>"
      ]
     },
     "metadata": {
      "needs_background": "light"
     },
     "output_type": "display_data"
    }
   ],
   "source": [
    "x_values = pd.Series(range(0,len(orders['revenue'])))\n",
    "plt.scatter(x_values, orders['revenue']) ;"
   ]
  },
  {
   "cell_type": "markdown",
   "id": "342897f4",
   "metadata": {},
   "source": [
    "построим этот график еще раз, ограничив ось у </div>"
   ]
  },
  {
   "cell_type": "code",
   "execution_count": 43,
   "id": "8301911a",
   "metadata": {},
   "outputs": [
    {
     "data": {
      "text/plain": [
       "(0.0, 150000.0)"
      ]
     },
     "execution_count": 43,
     "metadata": {},
     "output_type": "execute_result"
    },
    {
     "data": {
      "image/png": "[encoded data removed]",
      "text/plain": [
       "<Figure size 432x288 with 1 Axes>"
      ]
     },
     "metadata": {
      "needs_background": "light"
     },
     "output_type": "display_data"
    }
   ],
   "source": [
    "x_values = pd.Series(range(0,len(orders['revenue'])))\n",
    "plt.scatter(x_values, orders['revenue'])\n",
    "plt.ylim([0,150000])"
   ]
  },
  {
   "cell_type": "markdown",
   "id": "d54520e3",
   "metadata": {},
   "source": [
    "### Вывод по 3.6 \n",
    "\n",
    "Имеет место 2 выброса, причем один из них очень сильный. Он будет ильно влиять на данные."
   ]
  },
  {
   "cell_type": "markdown",
   "id": "3d92e43d",
   "metadata": {},
   "source": [
    "### 3.7 Посчитем 90, 95-й и 99-й перцентили стоимости заказов на пользователя. \n",
    "Определим границу для определения аномальных пользователей."
   ]
  },
  {
   "cell_type": "code",
   "execution_count": 44,
   "id": "bf542dce",
   "metadata": {},
   "outputs": [
    {
     "name": "stdout",
     "output_type": "stream",
     "text": [
      "[17990. 26785. 53904.]\n"
     ]
    }
   ],
   "source": [
    "print(np.percentile(orders['revenue'], [90,95, 99])) "
   ]
  },
  {
   "cell_type": "markdown",
   "id": "4b8df988",
   "metadata": {},
   "source": [
    "###  Вывод по шагу 3.7\n",
    "\n",
    "Не более 5% заказов дороже 28000 у.е. и не более 1% дороже 58233.2 у.е. Будем считать последних аномальными пользователями. \n",
    "Установим верхнюю границу по заказам на уровне 30000 у.е."
   ]
  },
  {
   "cell_type": "markdown",
   "id": "bc641543",
   "metadata": {},
   "source": [
    "### 3.8 Точечный график количества заказов по пользователям. "
   ]
  },
  {
   "cell_type": "code",
   "execution_count": 45,
   "id": "eefe8e20",
   "metadata": {
    "scrolled": true
   },
   "outputs": [
    {
     "name": "stdout",
     "output_type": "stream",
     "text": [
      "        user_id  orders\n",
      "908  3967698036       3\n",
      "55    249864742       3\n",
      "478  2108163459       3\n",
      "687  2988190573       3\n",
      "890  3908431265       3\n",
      "138   611059232       3\n",
      "632  2742574263       3\n",
      "157   678354126       2\n",
      "323  1404560065       2\n",
      "452  1985475298       2\n"
     ]
    }
   ],
   "source": [
    "orders_by_users = (\n",
    "    orders.groupby('user_id', as_index=False)\n",
    "    .agg({'order_id': 'nunique'})\n",
    ")\n",
    "\n",
    "\n",
    "orders_by_users.columns = ['user_id', 'orders']\n",
    "\n",
    "print(orders_by_users.sort_values(by='orders', ascending=False).head(10)) "
   ]
  },
  {
   "cell_type": "markdown",
   "id": "5918d94e",
   "metadata": {},
   "source": [
    "Есть несколько пользователей, которые сделали 11, 9 и 8 заказов. Это значительно больше, чем обычно"
   ]
  },
  {
   "cell_type": "code",
   "execution_count": 46,
   "id": "aa639d11",
   "metadata": {},
   "outputs": [
    {
     "data": {
      "image/png": "[encoded data removed]",
      "text/plain": [
       "<Figure size 432x288 with 1 Axes>"
      ]
     },
     "metadata": {
      "needs_background": "light"
     },
     "output_type": "display_data"
    }
   ],
   "source": [
    "x_values = pd.Series(range(0,len(orders_by_users)))\n",
    "\n",
    "plt.scatter(x_values, orders_by_users['orders']); "
   ]
  },
  {
   "cell_type": "markdown",
   "id": "f5715946",
   "metadata": {},
   "source": [
    "###  Вывод по шагу 3.8\n",
    "\n",
    "Больше всего пользователей сделало 1 заказ, потом идет группа с 2мя заказами. Пользователей, сделавших более 7 заказов можно считать аномалиями."
   ]
  },
  {
   "cell_type": "markdown",
   "id": "03d4605b",
   "metadata": {},
   "source": [
    "### 3.9 Посчитем 90, 95-й и 99-й перцентили количества заказов на пользователя. \n",
    "Определим границу для определения аномальных пользователей."
   ]
  },
  {
   "cell_type": "code",
   "execution_count": 47,
   "id": "723f1c16",
   "metadata": {},
   "outputs": [
    {
     "name": "stdout",
     "output_type": "stream",
     "text": [
      "[1. 1. 2.]\n"
     ]
    }
   ],
   "source": [
    "print(np.percentile(orders_by_users['orders'], [90, 95, 99])) "
   ]
  },
  {
   "cell_type": "markdown",
   "id": "0808fb00",
   "metadata": {},
   "source": [
    "###  Вывод по шагу 3.8\n",
    "\n",
    "Только менее 1 % пользователей сделало более 4х  заказов. Можем считатьэто верхней границей для выбросов."
   ]
  },
  {
   "cell_type": "markdown",
   "id": "5c61fb08",
   "metadata": {},
   "source": [
    "### 3.10 Статистическая значимость различий в среднем количестве заказов на посетителя между группами по «сырым» данным."
   ]
  },
  {
   "cell_type": "markdown",
   "id": "78476029",
   "metadata": {},
   "source": [
    "Сформулируем гипотезы. Нулевая: различий в среднем количестве заказов между группами нет. Альтернативная: различия в среднем между группами есть."
   ]
  },
  {
   "cell_type": "code",
   "execution_count": 48,
   "id": "ad8c13a6",
   "metadata": {},
   "outputs": [],
   "source": [
    "visitors_a_daily = visitors[visitors['group'] == 'A'][['date', 'visitors']]\n",
    "visitors_a_daily.columns = ['date', 'visitors_per_date_a']\n",
    "\n",
    "visitors_a_cummulative = visitors_a_daily.apply(\n",
    "    lambda x: visitors_a_daily[visitors_a_daily['date'] <= x['date']].agg(\n",
    "        {'date': 'max', 'visitors_per_date_a': 'sum'}\n",
    "    ),\n",
    "    axis=1,\n",
    ")\n",
    "visitors_a_cummulative.columns = ['date', 'visitors_cummulative_a']\n",
    "\n",
    "visitors_b_daily = visitors[visitors['group'] == 'B'][['date', 'visitors']]\n",
    "visitors_b_daily.columns = ['date', 'visitors_per_date_b']\n",
    "\n",
    "visitors_b_cummulative = visitors_b_daily.apply(\n",
    "    lambda x: visitors_b_daily[visitors_b_daily['date'] <= x['date']].agg(\n",
    "        {'date': 'max', 'visitors_per_date_b': 'sum'}\n",
    "    ),\n",
    "    axis=1,\n",
    ")\n",
    "visitors_b_cummulative.columns = ['date', 'visitors_cummulative_b']\n",
    "\n",
    "orders_a_daily = (\n",
    "    orders[orders['group'] == 'A'][['date', 'order_id', 'user_id', 'revenue']]\n",
    "    .groupby('date', as_index=False)\n",
    "    .agg({'order_id': pd.Series.nunique, 'revenue': 'sum'})\n",
    ")\n",
    "orders_a_daily.columns = ['date', 'orders_per_date_a', 'revenue_per_date_a']\n",
    "\n",
    "orders_a_cummulative = orders_a_daily.apply(\n",
    "    lambda x: orders_a_daily[orders_a_daily['date'] <= x['date']].agg(\n",
    "        {'date': 'max', 'orders_per_date_a': 'sum', 'revenue_per_date_a': 'sum'}\n",
    "    ),\n",
    "    axis=1,\n",
    ").sort_values(by=['date'])\n",
    "orders_a_cummulative.columns = [\n",
    "    'date',\n",
    "    'orders_cummulative_a',\n",
    "    'revenue_cummulative_a',\n",
    "]\n",
    "\n",
    "orders_b_daily = (\n",
    "    orders[orders['group'] == 'B'][['date', 'order_id', 'user_id', 'revenue']]\n",
    "    .groupby('date', as_index=False)\n",
    "    .agg({'order_id': pd.Series.nunique, 'revenue': 'sum'})\n",
    ")\n",
    "orders_b_daily.columns = ['date', 'orders_per_date_b', 'revenue_per_date_b']\n",
    "\n",
    "orders_b_cummulative = orders_b_daily.apply(\n",
    "    lambda x: orders_b_daily[orders_b_daily['date'] <= x['date']].agg(\n",
    "        {'date': 'max', 'orders_per_date_b': 'sum', 'revenue_per_date_b': 'sum'}\n",
    "    ),\n",
    "    axis=1,\n",
    ").sort_values(by=['date'])\n",
    "orders_b_cummulative.columns = [\n",
    "    'date',\n",
    "    'orders_cummulative_b',\n",
    "    'revenue_cummulative_b',\n",
    "]\n",
    "\n",
    "data = (\n",
    "    orders_a_daily.merge(\n",
    "        orders_b_daily, left_on='date', right_on='date', how='left'\n",
    "    )\n",
    "    .merge(orders_a_cummulative, left_on='date', right_on='date', how='left')\n",
    "    .merge(orders_b_cummulative, left_on='date', right_on='date', how='left')\n",
    "    .merge(visitors_a_daily, left_on='date', right_on='date', how='left')\n",
    "    .merge(visitors_b_daily, left_on='date', right_on='date', how='left')\n",
    "    .merge(visitors_a_cummulative, left_on='date', right_on='date', how='left')\n",
    "    .merge(visitors_b_cummulative, left_on='date', right_on='date', how='left')\n",
    ")"
   ]
  },
  {
   "cell_type": "code",
   "execution_count": 49,
   "id": "1568a3f9",
   "metadata": {},
   "outputs": [
    {
     "data": {
      "text/html": [
       "<div>\n",
       "<style scoped>\n",
       "    .dataframe tbody tr th:only-of-type {\n",
       "        vertical-align: middle;\n",
       "    }\n",
       "\n",
       "    .dataframe tbody tr th {\n",
       "        vertical-align: top;\n",
       "    }\n",
       "\n",
       "    .dataframe thead th {\n",
       "        text-align: right;\n",
       "    }\n",
       "</style>\n",
       "<table border=\"1\" class=\"dataframe\">\n",
       "  <thead>\n",
       "    <tr style=\"text-align: right;\">\n",
       "      <th></th>\n",
       "      <th>date</th>\n",
       "      <th>orders_per_date_a</th>\n",
       "      <th>revenue_per_date_a</th>\n",
       "      <th>orders_per_date_b</th>\n",
       "      <th>revenue_per_date_b</th>\n",
       "      <th>orders_cummulative_a</th>\n",
       "      <th>revenue_cummulative_a</th>\n",
       "      <th>orders_cummulative_b</th>\n",
       "      <th>revenue_cummulative_b</th>\n",
       "      <th>visitors_per_date_a</th>\n",
       "      <th>visitors_per_date_b</th>\n",
       "      <th>visitors_cummulative_a</th>\n",
       "      <th>visitors_cummulative_b</th>\n",
       "    </tr>\n",
       "  </thead>\n",
       "  <tbody>\n",
       "    <tr>\n",
       "      <th>0</th>\n",
       "      <td>2019-08-01</td>\n",
       "      <td>23</td>\n",
       "      <td>142779</td>\n",
       "      <td>17</td>\n",
       "      <td>59758</td>\n",
       "      <td>23</td>\n",
       "      <td>142779</td>\n",
       "      <td>17</td>\n",
       "      <td>59758</td>\n",
       "      <td>719</td>\n",
       "      <td>713</td>\n",
       "      <td>719</td>\n",
       "      <td>713</td>\n",
       "    </tr>\n",
       "    <tr>\n",
       "      <th>1</th>\n",
       "      <td>2019-08-02</td>\n",
       "      <td>19</td>\n",
       "      <td>91602</td>\n",
       "      <td>23</td>\n",
       "      <td>162043</td>\n",
       "      <td>42</td>\n",
       "      <td>234381</td>\n",
       "      <td>40</td>\n",
       "      <td>221801</td>\n",
       "      <td>619</td>\n",
       "      <td>581</td>\n",
       "      <td>1338</td>\n",
       "      <td>1294</td>\n",
       "    </tr>\n",
       "    <tr>\n",
       "      <th>2</th>\n",
       "      <td>2019-08-03</td>\n",
       "      <td>24</td>\n",
       "      <td>112473</td>\n",
       "      <td>14</td>\n",
       "      <td>67049</td>\n",
       "      <td>66</td>\n",
       "      <td>346854</td>\n",
       "      <td>54</td>\n",
       "      <td>288850</td>\n",
       "      <td>507</td>\n",
       "      <td>509</td>\n",
       "      <td>1845</td>\n",
       "      <td>1803</td>\n",
       "    </tr>\n",
       "    <tr>\n",
       "      <th>3</th>\n",
       "      <td>2019-08-04</td>\n",
       "      <td>11</td>\n",
       "      <td>41176</td>\n",
       "      <td>14</td>\n",
       "      <td>96890</td>\n",
       "      <td>77</td>\n",
       "      <td>388030</td>\n",
       "      <td>68</td>\n",
       "      <td>385740</td>\n",
       "      <td>717</td>\n",
       "      <td>770</td>\n",
       "      <td>2562</td>\n",
       "      <td>2573</td>\n",
       "    </tr>\n",
       "    <tr>\n",
       "      <th>4</th>\n",
       "      <td>2019-08-05</td>\n",
       "      <td>22</td>\n",
       "      <td>86383</td>\n",
       "      <td>21</td>\n",
       "      <td>89908</td>\n",
       "      <td>99</td>\n",
       "      <td>474413</td>\n",
       "      <td>89</td>\n",
       "      <td>475648</td>\n",
       "      <td>756</td>\n",
       "      <td>707</td>\n",
       "      <td>3318</td>\n",
       "      <td>3280</td>\n",
       "    </tr>\n",
       "  </tbody>\n",
       "</table>\n",
       "</div>"
      ],
      "text/plain": [
       "        date  orders_per_date_a  revenue_per_date_a  orders_per_date_b  \\\n",
       "0 2019-08-01                 23              142779                 17   \n",
       "1 2019-08-02                 19               91602                 23   \n",
       "2 2019-08-03                 24              112473                 14   \n",
       "3 2019-08-04                 11               41176                 14   \n",
       "4 2019-08-05                 22               86383                 21   \n",
       "\n",
       "   revenue_per_date_b  orders_cummulative_a  revenue_cummulative_a  \\\n",
       "0               59758                    23                 142779   \n",
       "1              162043                    42                 234381   \n",
       "2               67049                    66                 346854   \n",
       "3               96890                    77                 388030   \n",
       "4               89908                    99                 474413   \n",
       "\n",
       "   orders_cummulative_b  revenue_cummulative_b  visitors_per_date_a  \\\n",
       "0                    17                  59758                  719   \n",
       "1                    40                 221801                  619   \n",
       "2                    54                 288850                  507   \n",
       "3                    68                 385740                  717   \n",
       "4                    89                 475648                  756   \n",
       "\n",
       "   visitors_per_date_b  visitors_cummulative_a  visitors_cummulative_b  \n",
       "0                  713                     719                     713  \n",
       "1                  581                    1338                    1294  \n",
       "2                  509                    1845                    1803  \n",
       "3                  770                    2562                    2573  \n",
       "4                  707                    3318                    3280  "
      ]
     },
     "execution_count": 49,
     "metadata": {},
     "output_type": "execute_result"
    }
   ],
   "source": [
    "data.head(5)"
   ]
  },
  {
   "cell_type": "markdown",
   "id": "cf893d29",
   "metadata": {},
   "source": [
    "Мы получили сводную таблицу, со следующими столбцами:\n",
    "\n",
    "|столбец|описание|\n",
    "|--:|:--|\n",
    "|date |дата|\n",
    "|orders_per_date_a|количество заказов в выбранную дату в группе |\n",
    "|revenue_per_date_a|суммарная выручка в выбранную дату в группе |\n",
    "|orders_per_date_b|количество заказов в выбранную дату в группе|\n",
    "|revenue_per_date_b\t| суммарная выручка в выбранную дату в группе|\n",
    "|orders_cummulative_a|суммарное число заказов до выбранной даты включительно в группе|\n",
    "|revenue_cummulative_a|суммарная выручка до выбранной даты включительно в группе |\n",
    "|orders_cummulative_b |суммарное количество заказов до выбранной даты включительно в группе B|\n",
    "|revenue_cummulative_b|суммарная выручка до выбранной даты включительно в группе B|\n",
    "|visitors_per_date_a | количество пользователей в выбранную дату в группе A|\n",
    "|visitors_per_date_b |количество пользователей в выбранную дату в группе B|\n",
    "|visitors_cummulative_a | количество пользователей до выбранной даты включительно в группе A|\n",
    "|visitors_cummulative_b|количество пользователей до выбранной даты включительно в группе B|"
   ]
  },
  {
   "cell_type": "markdown",
   "id": "a62875d7",
   "metadata": {},
   "source": [
    "Создадим переменные orders_by_users_a и orders_by_users_b  со столбцами `user_id`, `orders`. В них для пользователей, которые заказывали хотя бы 1 раз, укажем число совершённых заказов. "
   ]
  },
  {
   "cell_type": "code",
   "execution_count": 50,
   "id": "94c91c8b",
   "metadata": {},
   "outputs": [],
   "source": [
    "orders_by_users_a = (\n",
    "    orders[orders['group'] == 'A']\n",
    "    .groupby('user_id', as_index=False)\n",
    "    .agg({'order_id': pd.Series.nunique})\n",
    ")\n",
    "orders_by_users_a.columns = ['user_id', 'orders']\n",
    "\n",
    "orders_by_users_b  = (\n",
    "    orders[orders['group'] == 'B']\n",
    "    .groupby('user_id', as_index=False)\n",
    "    .agg({'order_id': pd.Series.nunique})\n",
    ")\n",
    "orders_by_users_b .columns = ['user_id', 'orders'] "
   ]
  },
  {
   "cell_type": "markdown",
   "id": "1fbecab8",
   "metadata": {},
   "source": [
    "Объявим переменные sample_a и sample_b, в которых пользователям из разных групп будет соответствовать количество заказов. Тем, кто ничего не заказал, будут соответствовать нули."
   ]
  },
  {
   "cell_type": "code",
   "execution_count": 51,
   "id": "607b4aa0",
   "metadata": {},
   "outputs": [],
   "source": [
    "sample_a = pd.concat([orders_by_users_a ['orders'],\\\n",
    "                     pd.Series(0, index=np.arange(data['visitors_per_date_a']\\\n",
    "                                                  .sum() - len(orders_by_users_a ['orders'])), name='orders')],axis=0)\n",
    "\n",
    "sample_b = pd.concat([orders_by_users_b ['orders'],\\\n",
    "                     pd.Series(0, index=np.arange(data['visitors_per_date_b'].\\\n",
    "                                                  sum() - len(orders_by_users_b ['orders'])), name='orders')],axis=0)"
   ]
  },
  {
   "cell_type": "markdown",
   "id": "6574f0b5",
   "metadata": {},
   "source": [
    "Посчитаем p-value и  относительный прирост среднего числа заказов группы B"
   ]
  },
  {
   "cell_type": "code",
   "execution_count": 52,
   "id": "1c114d28",
   "metadata": {},
   "outputs": [
    {
     "name": "stdout",
     "output_type": "stream",
     "text": [
      "p-value равен  0.006\n",
      "относительный прирост среднего числа заказов группы B  соответствует 0.160\n"
     ]
    }
   ],
   "source": [
    "\n",
    "print(\"p-value равен  {0:.3f}\".format(stats.mannwhitneyu(sample_a, sample_b)[1]))\n",
    "\n",
    "print(\"относительный прирост среднего числа заказов группы B  соответствует {0:.3f}\".format(sample_b.mean() / sample_a.mean() - 1))\n"
   ]
  },
  {
   "cell_type": "markdown",
   "id": "18f8e44f",
   "metadata": {},
   "source": [
    "### Вывод по шагу 3.10\n",
    "\n",
    "По «сырым» данным различия в среднем числе заказов групп A и B есть. \n",
    "Первое число — p-value = 0.008 меньше  0.05. Значит, нулевую гипотезу о том, что статистически значимых различий в среднем числе заказов между группами нет, мы отвергаем. Относительный выигрыш группы B равен 13,8 % — второе число в выводе."
   ]
  },
  {
   "cell_type": "markdown",
   "id": "c99bf25c",
   "metadata": {},
   "source": [
    "### 3.11 Cтатистическая значимость различий в среднем чеке заказа между группами по «сырым» данным. "
   ]
  },
  {
   "cell_type": "markdown",
   "id": "c952ce54",
   "metadata": {},
   "source": [
    "Нулевая гипотеза: различий в среднем чеке между группами нет. \n",
    "Альтернативная гипотеза: различия в среднем чеке между группами есть. "
   ]
  },
  {
   "cell_type": "code",
   "execution_count": 53,
   "id": "c1370236",
   "metadata": {},
   "outputs": [
    {
     "name": "stdout",
     "output_type": "stream",
     "text": [
      "p-value равен 0.415\n",
      "отношение среднего чека  группы B  к чеку группы А равен  0.287\n"
     ]
    }
   ],
   "source": [
    "print('p-value равен {0:.3f}'.format(stats.mannwhitneyu(orders[orders['group']=='A']['revenue'], orders[orders['group']=='B']['revenue'])[1]))\n",
    "print('отношение среднего чека  группы B  к чеку группы А равен  {0:.3f}'.format(orders[orders['group']=='B']['revenue'].mean()/orders[orders['group']=='A']['revenue'].mean()-1))"
   ]
  },
  {
   "cell_type": "markdown",
   "id": "d1717df8",
   "metadata": {},
   "source": [
    "### Вывод по шагу 3.11\n",
    "P-value значительно больше 0.05. Значит, причин отвергать нулевую гипотезу и считать, что в среднем чеке есть различия, нет. Впрочем, средний чек группы B значительно выше среднего чека группы A. Поскольку относительное различие среднего чека между сегментами составляет ~28%, наблюдаемые различия не являются значимыми при таком уровне значимости, а следовательно были получены случайно."
   ]
  },
  {
   "cell_type": "markdown",
   "id": "e93b45c7",
   "metadata": {},
   "source": [
    "###  3. 12 Статистическая значимость различий в среднем количестве заказов на посетителя между группами по «очищенным» данным. "
   ]
  },
  {
   "cell_type": "markdown",
   "id": "80552548",
   "metadata": {},
   "source": [
    "Сформулируем гипотезы. Нулевая: различий в среднем количестве заказов между группами нет. Альтернативная: различия в среднем между группами есть.\n",
    "\n",
    "Примем за аномальных пользователей тех, кто совершил от 4 заказов или совершил заказ дороже 30 000 у.е. Так мы уберём 5% пользователей с наибольшим числом заказов и от 1% до 5% пользователей с дорогими заказами. Сделаем срезы пользователей с числом заказов больше 3 — `users_with_many_orders` и пользователей, совершивших заказы дороже 30 000 — `users_with_expensive_orders`. Объединим их в таблице `abnormal_users`. \n",
    "Узнаем, сколько всего аномальных пользователей атрибутом shape."
   ]
  },
  {
   "cell_type": "code",
   "execution_count": 54,
   "id": "1f417aa6",
   "metadata": {},
   "outputs": [
    {
     "name": "stdout",
     "output_type": "stream",
     "text": [
      "1099    148427295\n",
      "928     204675465\n",
      "684     358944393\n",
      "648     382846391\n",
      "751     689129267\n",
      "Name: user_id, dtype: int64\n",
      "42\n"
     ]
    }
   ],
   "source": [
    "abnormal_count_orders = 3\n",
    "abnormal_count_revenue = 30000\n",
    "\n",
    "\n",
    "\n",
    "users_with_many_orders  = pd.concat(\n",
    "    [\n",
    "       orders_by_users_a[orders_by_users_a['orders'] > abnormal_count_orders]['user_id'],\n",
    "        orders_by_users_b[orders_by_users_b['orders'] > abnormal_count_orders]['user_id'],\n",
    "    ],\n",
    "    axis=0,\n",
    ")\n",
    "users_with_expensive_orders = orders[orders['revenue'] > abnormal_count_revenue]['user_id']\n",
    "abnormal_users = (\n",
    "    pd.concat([users_with_many_orders, users_with_expensive_orders], axis=0)\n",
    "    .drop_duplicates()\n",
    "    .sort_values()\n",
    ")\n",
    "print(abnormal_users.head(5))\n",
    "print(abnormal_users.shape[0])"
   ]
  },
  {
   "cell_type": "markdown",
   "id": "d761f1b0",
   "metadata": {},
   "source": [
    "у нас 57 аномальных пользователей. Посмотрим, как они повлияли на результат."
   ]
  },
  {
   "cell_type": "code",
   "execution_count": 55,
   "id": "dbab754e",
   "metadata": {},
   "outputs": [],
   "source": [
    "sample_a_filtered = pd.concat(\n",
    "    [\n",
    "        orders_by_users_a[\n",
    "            np.logical_not(orders_by_users_a['user_id'].isin(abnormal_users))\n",
    "        ]['orders'],\n",
    "        pd.Series(\n",
    "            0,\n",
    "            index=np.arange(\n",
    "                data['visitors_per_date_a'].sum() - len(orders_by_users_a['orders'])\n",
    "            ),\n",
    "            name='orders',\n",
    "        ),\n",
    "    ],\n",
    "    axis=0,\n",
    ")\n",
    "\n",
    "sample_b_filtered = pd.concat(\n",
    "    [\n",
    "        orders_by_users_b[\n",
    "            np.logical_not(orders_by_users_b['user_id'].isin(abnormal_users))\n",
    "        ]['orders'],\n",
    "        pd.Series(\n",
    "            0,\n",
    "            index=np.arange(\n",
    "                data['visitors_per_date_b'].sum() - len(orders_by_users_b['orders'])\n",
    "            ),\n",
    "            name='orders',\n",
    "        ),\n",
    "    ],\n",
    "    axis=0,\n",
    ")"
   ]
  },
  {
   "cell_type": "markdown",
   "id": "2473e273",
   "metadata": {},
   "source": [
    "Применим статистический критерий Манна-Уитни к полученным выборкам:"
   ]
  },
  {
   "cell_type": "code",
   "execution_count": 56,
   "id": "8f2a6cce",
   "metadata": {},
   "outputs": [
    {
     "name": "stdout",
     "output_type": "stream",
     "text": [
      "p-value равен 0.007\n",
      "относительный прирост среднего числа заказов группы B  соответствует 0.161\n"
     ]
    }
   ],
   "source": [
    "print('p-value равен {0:.3f}'.format(stats.mannwhitneyu(sample_a_filtered, sample_b_filtered )[1]))\n",
    "print('относительный прирост среднего числа заказов группы B  соответствует {0:.3f}'.format(sample_b_filtered .mean()/sample_a_filtered.mean()-1)) "
   ]
  },
  {
   "cell_type": "markdown",
   "id": "8ecee71b",
   "metadata": {},
   "source": [
    "### Вывод по шагу 3.12\n",
    "P-value меньше 0.05. Значит, стоит отвергнуть нулевую гипотезу и считать, что в среднем чеке есть различия. Средний чек группы B значительно выше среднего чека группы A. "
   ]
  },
  {
   "cell_type": "markdown",
   "id": "3ab2d65f",
   "metadata": {},
   "source": [
    "### 3.13 Статистическая значимость различий в среднем чеке заказа между группами по «очищенным» данным"
   ]
  },
  {
   "cell_type": "markdown",
   "id": "73ae6fad",
   "metadata": {},
   "source": [
    "Нулевая гипотеза: различий в среднем чеке между группами нет. Альтернативная гипотеза: различия в среднем чеке между группами есть."
   ]
  },
  {
   "cell_type": "code",
   "execution_count": 57,
   "id": "176c8aba",
   "metadata": {},
   "outputs": [
    {
     "name": "stdout",
     "output_type": "stream",
     "text": [
      "0.421\n",
      "-0.031\n"
     ]
    }
   ],
   "source": [
    "print(\n",
    "    '{0:.3f}'.format(\n",
    "        stats.mannwhitneyu(\n",
    "            orders[\n",
    "                np.logical_and(\n",
    "                    orders['group'] == 'A',\n",
    "                    np.logical_not(orders['user_id'].isin(abnormal_users)),\n",
    "                )\n",
    "            ]['revenue'],\n",
    "            orders[\n",
    "                np.logical_and(\n",
    "                    orders['group'] == 'B',\n",
    "                    np.logical_not(orders['user_id'].isin(abnormal_users)),\n",
    "                )\n",
    "            ]['revenue'],\n",
    "        )[1]\n",
    "    )\n",
    ")\n",
    "\n",
    "print(\n",
    "    \"{0:.3f}\".format(\n",
    "        orders[\n",
    "            np.logical_and(\n",
    "                orders['group'] == 'B',\n",
    "                np.logical_not(orders['user_id'].isin(abnormal_users)),\n",
    "            )\n",
    "        ]['revenue'].mean()\n",
    "        / orders[\n",
    "            np.logical_and(\n",
    "                orders['group'] == 'A',\n",
    "                np.logical_not(orders['user_id'].isin(abnormal_users)),\n",
    "            )\n",
    "        ]['revenue'].mean()\n",
    "        - 1\n",
    "    )\n",
    ")"
   ]
  },
  {
   "cell_type": "markdown",
   "id": "01b304cd",
   "metadata": {},
   "source": [
    "### Вывод по шагу 3.13\n",
    "P-value значительно больше 0.05. Значит, причин отвергать нулевую гипотезу и считать, что в среднем чеке есть различия, нет. \n",
    "В случае сырых данных результат был такой же. Не отвергать нулевую гипотезу. Но на отчищенных данных P-value больше. \n",
    "\n",
    "0.479 и 0.365\n",
    "А отношение среднего чека  группы B  к чеку группы А изменилось относительно сырых данных  -0.020 вместо  0.259 на всех данных.\n"
   ]
  },
  {
   "cell_type": "markdown",
   "id": "dc3063d2",
   "metadata": {},
   "source": [
    "# Общий вывод: "
   ]
  },
  {
   "cell_type": "markdown",
   "id": "e9bd8b33",
   "metadata": {},
   "source": [
    "## 1. Приоритет гипотез"
   ]
  },
  {
   "cell_type": "markdown",
   "id": "cf6fc5e8",
   "metadata": {},
   "source": [
    "При оценке 9 предложенных гипотез были посчитаны 2 фреймворка ICE  и RICE. \n",
    "Если не брать во внимание парамер `reach` (Количество пользователей, которых затронет изменение) то наиболее приоритетной следует считать гипотезу \"Запустить акцию, дающую скидку на товар в день рождения\"\n",
    "\n",
    "Если считать параметр `reach` важным, то согласно фреймворку  RICE главной следует считать гипотезу:\n",
    "\"Добавить форму подписки на все основные страницы, чтобы собрать базу клиентов для email-рассылок\""
   ]
  },
  {
   "cell_type": "markdown",
   "id": "8657626d",
   "metadata": {},
   "source": [
    "## 2. А/Б тест"
   ]
  },
  {
   "cell_type": "markdown",
   "id": "69ebf675",
   "metadata": {},
   "source": [
    "Решение: Остановить тест, зафиксировать победу одной из групп.\n",
    "\n",
    "Имеющиеся факты:\n",
    "\n",
    "- Нет статистически значимого различия по среднему количеству заказов между группами по «сырым» данным, но она появляется, если мы берем данные  после фильтрации аномалий;\n",
    " - Нет статистически значимого различия по среднему чеку между группами ни по «сырым», ни по данным после фильтрации аномалий;\n",
    " - График различия конверсии между группами сообщает, что результаты группы B лучше группы A и эта тенденция сохраняется\n",
    " - График различия среднего чека говорит о том, что результаты группы B значительно лучше, чем  в группе А, но начали немного снижаться.\n",
    "\n",
    "Исходя из обнаруженных фактов, тест следует остановить и признать его успешным. Есть все основания считать, что группа В успешнее по количеству заказов, но не успешнее по среднему чеку. "
   ]
  }
 ],
 "metadata": {
  "ExecuteTimeLog": [
   {
    "duration": 1033,
    "start_time": "2022-12-28T19:28:39.740Z"
   },
   {
    "duration": 301,
    "start_time": "2022-12-28T19:28:40.775Z"
   },
   {
    "duration": 62,
    "start_time": "2022-12-28T19:28:41.077Z"
   },
   {
    "duration": 4,
    "start_time": "2022-12-28T19:28:41.140Z"
   },
   {
    "duration": 5,
    "start_time": "2022-12-28T19:28:41.146Z"
   },
   {
    "duration": 14,
    "start_time": "2022-12-28T19:28:41.153Z"
   },
   {
    "duration": 7,
    "start_time": "2022-12-28T19:28:41.169Z"
   },
   {
    "duration": 44,
    "start_time": "2022-12-28T19:28:41.178Z"
   },
   {
    "duration": 7,
    "start_time": "2022-12-28T19:28:41.223Z"
   },
   {
    "duration": 8,
    "start_time": "2022-12-28T19:28:41.231Z"
   },
   {
    "duration": 6,
    "start_time": "2022-12-28T19:28:41.240Z"
   },
   {
    "duration": 23,
    "start_time": "2022-12-28T19:28:41.247Z"
   },
   {
    "duration": 13,
    "start_time": "2022-12-28T19:28:41.271Z"
   },
   {
    "duration": 6,
    "start_time": "2022-12-28T19:28:46.092Z"
   },
   {
    "duration": 163,
    "start_time": "2022-12-28T19:28:46.100Z"
   },
   {
    "duration": 135,
    "start_time": "2022-12-28T19:28:46.265Z"
   },
   {
    "duration": 21,
    "start_time": "2022-12-28T19:28:46.402Z"
   },
   {
    "duration": 265,
    "start_time": "2022-12-28T19:28:46.425Z"
   },
   {
    "duration": 184,
    "start_time": "2022-12-28T19:28:46.692Z"
   },
   {
    "duration": 6,
    "start_time": "2022-12-28T19:28:46.879Z"
   },
   {
    "duration": 308,
    "start_time": "2022-12-28T19:28:46.887Z"
   },
   {
    "duration": 194,
    "start_time": "2022-12-28T19:28:47.197Z"
   },
   {
    "duration": 349,
    "start_time": "2022-12-28T19:28:47.393Z"
   },
   {
    "duration": 156,
    "start_time": "2022-12-28T19:28:47.745Z"
   },
   {
    "duration": 4,
    "start_time": "2022-12-28T19:28:47.903Z"
   },
   {
    "duration": 24,
    "start_time": "2022-12-28T19:28:47.908Z"
   },
   {
    "duration": 114,
    "start_time": "2022-12-28T19:28:47.933Z"
   },
   {
    "duration": 5,
    "start_time": "2022-12-28T19:28:48.049Z"
   },
   {
    "duration": 292,
    "start_time": "2022-12-28T19:28:48.056Z"
   },
   {
    "duration": 11,
    "start_time": "2022-12-28T19:28:48.349Z"
   },
   {
    "duration": 146,
    "start_time": "2022-12-28T19:28:48.361Z"
   },
   {
    "duration": 14,
    "start_time": "2022-12-28T19:28:48.510Z"
   },
   {
    "duration": 23,
    "start_time": "2022-12-28T19:28:48.526Z"
   },
   {
    "duration": 11,
    "start_time": "2022-12-28T19:28:48.907Z"
   },
   {
    "duration": 9,
    "start_time": "2022-12-28T19:28:48.979Z"
   },
   {
    "duration": 12,
    "start_time": "2022-12-28T19:28:49.850Z"
   },
   {
    "duration": 32,
    "start_time": "2022-12-28T19:28:49.864Z"
   },
   {
    "duration": 40,
    "start_time": "2022-12-28T19:28:49.897Z"
   }
  ],
  "kernelspec": {
   "display_name": "Python 3",
   "language": "python",
   "name": "python3"
  },
  "language_info": {
   "codemirror_mode": {
    "name": "ipython",
    "version": 3
   },
   "file_extension": ".py",
   "mimetype": "text/x-python",
   "name": "python",
   "nbconvert_exporter": "python",
   "pygments_lexer": "ipython3",
   "version": "3.8.8"
  },
  "toc": {
   "base_numbering": 1,
   "nav_menu": {},
   "number_sections": false,
   "sideBar": true,
   "skip_h1_title": false,
   "title_cell": "Table of Contents",
   "title_sidebar": "Contents",
   "toc_cell": false,
   "toc_position": {
    "height": "calc(100% - 180px)",
    "left": "10px",
    "top": "150px",
    "width": "349.091px"
   },
   "toc_section_display": true,
   "toc_window_display": true
  }
 },
 "nbformat": 4,
 "nbformat_minor": 5
}
